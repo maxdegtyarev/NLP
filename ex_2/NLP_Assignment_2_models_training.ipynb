{
  "nbformat": 4,
  "nbformat_minor": 0,
  "metadata": {
    "colab": {
      "provenance": [],
      "gpuType": "T4"
    },
    "kernelspec": {
      "name": "python3",
      "display_name": "Python 3"
    },
    "language_info": {
      "name": "python"
    },
    "accelerator": "GPU"
  },
  "cells": [
    {
      "cell_type": "markdown",
      "source": [
        "\n"
      ],
      "metadata": {
        "id": "iGCsvo7H31mY"
      }
    },
    {
      "cell_type": "markdown",
      "source": [
        "\n",
        "\n",
        "# PLUS\n",
        "# Specific task 2A-I: Multiple models; multiple languages\n",
        "Pick a second language. Build a second character-level model for this language and assess its quality. Then assess your first model on the task of generating names for the second language, and vice-versa. How good is the transfer from the first model to the second? How about the other way around? Is this what you expected? Why (not)?"
      ],
      "metadata": {
        "id": "Zg1sR5Dt43Gu"
      }
    },
    {
      "cell_type": "markdown",
      "source": [
        "# Data loading"
      ],
      "metadata": {
        "id": "fDc1FJtb5twq"
      }
    },
    {
      "cell_type": "code",
      "source": [
        "!pip install optuna"
      ],
      "metadata": {
        "id": "E5bhkeMHrq_h",
        "colab": {
          "base_uri": "https://localhost:8080/"
        },
        "outputId": "4c28d840-182f-4cad-cfc9-96f7e7509c53"
      },
      "execution_count": 1,
      "outputs": [
        {
          "output_type": "stream",
          "name": "stdout",
          "text": [
            "Collecting optuna\n",
            "  Downloading optuna-4.2.1-py3-none-any.whl.metadata (17 kB)\n",
            "Collecting alembic>=1.5.0 (from optuna)\n",
            "  Downloading alembic-1.14.1-py3-none-any.whl.metadata (7.4 kB)\n",
            "Collecting colorlog (from optuna)\n",
            "  Downloading colorlog-6.9.0-py3-none-any.whl.metadata (10 kB)\n",
            "Requirement already satisfied: numpy in /usr/local/lib/python3.11/dist-packages (from optuna) (1.26.4)\n",
            "Requirement already satisfied: packaging>=20.0 in /usr/local/lib/python3.11/dist-packages (from optuna) (24.2)\n",
            "Requirement already satisfied: sqlalchemy>=1.4.2 in /usr/local/lib/python3.11/dist-packages (from optuna) (2.0.38)\n",
            "Requirement already satisfied: tqdm in /usr/local/lib/python3.11/dist-packages (from optuna) (4.67.1)\n",
            "Requirement already satisfied: PyYAML in /usr/local/lib/python3.11/dist-packages (from optuna) (6.0.2)\n",
            "Collecting Mako (from alembic>=1.5.0->optuna)\n",
            "  Downloading Mako-1.3.9-py3-none-any.whl.metadata (2.9 kB)\n",
            "Requirement already satisfied: typing-extensions>=4 in /usr/local/lib/python3.11/dist-packages (from alembic>=1.5.0->optuna) (4.12.2)\n",
            "Requirement already satisfied: greenlet!=0.4.17 in /usr/local/lib/python3.11/dist-packages (from sqlalchemy>=1.4.2->optuna) (3.1.1)\n",
            "Requirement already satisfied: MarkupSafe>=0.9.2 in /usr/local/lib/python3.11/dist-packages (from Mako->alembic>=1.5.0->optuna) (3.0.2)\n",
            "Downloading optuna-4.2.1-py3-none-any.whl (383 kB)\n",
            "\u001b[2K   \u001b[90m━━━━━━━━━━━━━━━━━━━━━━━━━━━━━━━━━━━━━━━━\u001b[0m \u001b[32m383.6/383.6 kB\u001b[0m \u001b[31m5.5 MB/s\u001b[0m eta \u001b[36m0:00:00\u001b[0m\n",
            "\u001b[?25hDownloading alembic-1.14.1-py3-none-any.whl (233 kB)\n",
            "\u001b[2K   \u001b[90m━━━━━━━━━━━━━━━━━━━━━━━━━━━━━━━━━━━━━━━━\u001b[0m \u001b[32m233.6/233.6 kB\u001b[0m \u001b[31m9.0 MB/s\u001b[0m eta \u001b[36m0:00:00\u001b[0m\n",
            "\u001b[?25hDownloading colorlog-6.9.0-py3-none-any.whl (11 kB)\n",
            "Downloading Mako-1.3.9-py3-none-any.whl (78 kB)\n",
            "\u001b[2K   \u001b[90m━━━━━━━━━━━━━━━━━━━━━━━━━━━━━━━━━━━━━━━━\u001b[0m \u001b[32m78.5/78.5 kB\u001b[0m \u001b[31m3.9 MB/s\u001b[0m eta \u001b[36m0:00:00\u001b[0m\n",
            "\u001b[?25hInstalling collected packages: Mako, colorlog, alembic, optuna\n",
            "Successfully installed Mako-1.3.9 alembic-1.14.1 colorlog-6.9.0 optuna-4.2.1\n"
          ]
        }
      ]
    },
    {
      "cell_type": "code",
      "source": [
        "!wget https://raw.githubusercontent.com/mrblasco/genderNamesITA/refs/heads/master/gender_firstnames_ITA.csv -O italian_names.csv\n",
        "!wget https://raw.githubusercontent.com/jvalhondo/spanish-names-surnames/refs/heads/master/female_names.csv -O spanish_female_names.csv\n",
        "!wget https://raw.githubusercontent.com/jvalhondo/spanish-names-surnames/refs/heads/master/male_names.csv -O spanish_male_names.csv"
      ],
      "metadata": {
        "id": "1J4Ly1qD34Gh",
        "colab": {
          "base_uri": "https://localhost:8080/"
        },
        "outputId": "57b7b739-25bf-4e02-8d86-4187a6e7ae64"
      },
      "execution_count": 2,
      "outputs": [
        {
          "output_type": "stream",
          "name": "stdout",
          "text": [
            "--2025-03-02 21:28:19--  https://raw.githubusercontent.com/mrblasco/genderNamesITA/refs/heads/master/gender_firstnames_ITA.csv\n",
            "Resolving raw.githubusercontent.com (raw.githubusercontent.com)... 185.199.109.133, 185.199.111.133, 185.199.108.133, ...\n",
            "Connecting to raw.githubusercontent.com (raw.githubusercontent.com)|185.199.109.133|:443... connected.\n",
            "HTTP request sent, awaiting response... 200 OK\n",
            "Length: 666528 (651K) [text/plain]\n",
            "Saving to: ‘italian_names.csv’\n",
            "\n",
            "italian_names.csv   100%[===================>] 650.91K  --.-KB/s    in 0.05s   \n",
            "\n",
            "2025-03-02 21:28:20 (12.0 MB/s) - ‘italian_names.csv’ saved [666528/666528]\n",
            "\n",
            "--2025-03-02 21:28:20--  https://raw.githubusercontent.com/jvalhondo/spanish-names-surnames/refs/heads/master/female_names.csv\n",
            "Resolving raw.githubusercontent.com (raw.githubusercontent.com)... 185.199.108.133, 185.199.109.133, 185.199.110.133, ...\n",
            "Connecting to raw.githubusercontent.com (raw.githubusercontent.com)|185.199.108.133|:443... connected.\n",
            "HTTP request sent, awaiting response... 200 OK\n",
            "Length: 493597 (482K) [text/plain]\n",
            "Saving to: ‘spanish_female_names.csv’\n",
            "\n",
            "spanish_female_name 100%[===================>] 482.03K  --.-KB/s    in 0.05s   \n",
            "\n",
            "2025-03-02 21:28:20 (9.82 MB/s) - ‘spanish_female_names.csv’ saved [493597/493597]\n",
            "\n",
            "--2025-03-02 21:28:20--  https://raw.githubusercontent.com/jvalhondo/spanish-names-surnames/refs/heads/master/male_names.csv\n",
            "Resolving raw.githubusercontent.com (raw.githubusercontent.com)... 185.199.108.133, 185.199.109.133, 185.199.110.133, ...\n",
            "Connecting to raw.githubusercontent.com (raw.githubusercontent.com)|185.199.108.133|:443... connected.\n",
            "HTTP request sent, awaiting response... 200 OK\n",
            "Length: 491187 (480K) [text/plain]\n",
            "Saving to: ‘spanish_male_names.csv’\n",
            "\n",
            "spanish_male_names. 100%[===================>] 479.67K  --.-KB/s    in 0.05s   \n",
            "\n",
            "2025-03-02 21:28:20 (10.1 MB/s) - ‘spanish_male_names.csv’ saved [491187/491187]\n",
            "\n"
          ]
        }
      ]
    },
    {
      "cell_type": "markdown",
      "source": [
        "# Dataset Description\n",
        "\n",
        "This notebook uses a dataset of Italian names sourced from the GitHub repository [https://raw.githubusercontent.com/mrblasco/genderNamesITA/refs/heads/master/gender_firstnames_ITA.csv](https://raw.githubusercontent.com/mrblasco/genderNamesITA/refs/heads/master/gender_firstnames_ITA.csv).  The original dataset contains names and associated gender information.\n",
        "\n",
        "**Data Cleaning:**\n",
        "\n",
        "The names undergo a cleaning process:\n",
        "\n",
        "1. **Lowercasing:** All names are converted to lowercase.\n",
        "2. **Special Character Removal:** Numbers and special characters are removed, retaining only letters and periods ('.').  This helps standardize the input and focus the model on character sequences relevant to names.\n",
        "3. **Whitespace Removal:** Leading and trailing whitespace is removed from each name.\n",
        "\n",
        "**Vocabulary Creation:**\n",
        "\n",
        "A vocabulary of characters is constructed from the cleaned names.  A mapping between characters and unique integer representations is created:\n",
        "\n",
        "* `stoi`: A dictionary mapping each character to a unique integer. The period ('.') is assigned the integer 0, serving as a special token.\n",
        "* `itos`: The reverse mapping from integers back to characters.\n",
        "\n",
        "This vocabulary and the cleaned names are used to train a character-level language model, allowing the model to generate new names."
      ],
      "metadata": {
        "id": "eI8iiRXR6yEH"
      }
    },
    {
      "cell_type": "code",
      "source": [
        "import pandas as pd\n",
        "import numpy as np\n",
        "import matplotlib.pyplot as plt\n",
        "import seaborn as sns\n",
        "\n",
        "\n",
        "italian_names = pd.read_csv('italian_names.csv', on_bad_lines='skip', header=0)\n",
        "spanish_names_female = pd.read_csv('spanish_female_names.csv', header=0, index_col=None)\n",
        "spanish_names_male = pd.read_csv('spanish_male_names.csv', on_bad_lines='skip', header=0, index_col=None)\n",
        "\n",
        "spanish_names = pd.concat([spanish_names_female, spanish_names_male])\n"
      ],
      "metadata": {
        "id": "sHQ-VQox0U7W"
      },
      "execution_count": 3,
      "outputs": []
    },
    {
      "cell_type": "code",
      "source": [
        "italian_names.head(3)"
      ],
      "metadata": {
        "id": "MKWvqUhB0zeI",
        "colab": {
          "base_uri": "https://localhost:8080/",
          "height": 143
        },
        "outputId": "d952c17d-582e-4430-b7e5-831d262ac00c"
      },
      "execution_count": 4,
      "outputs": [
        {
          "output_type": "execute_result",
          "data": {
            "text/plain": [
              "         nome  tot  male  female\n",
              "0  A IPPOLITO    5     5       0\n",
              "1     A MARIA    5     0       5\n",
              "2   A. ANGELO    3     3       0"
            ],
            "text/html": [
              "\n",
              "  <div id=\"df-13e53771-79c7-411f-8451-2b39c8606488\" class=\"colab-df-container\">\n",
              "    <div>\n",
              "<style scoped>\n",
              "    .dataframe tbody tr th:only-of-type {\n",
              "        vertical-align: middle;\n",
              "    }\n",
              "\n",
              "    .dataframe tbody tr th {\n",
              "        vertical-align: top;\n",
              "    }\n",
              "\n",
              "    .dataframe thead th {\n",
              "        text-align: right;\n",
              "    }\n",
              "</style>\n",
              "<table border=\"1\" class=\"dataframe\">\n",
              "  <thead>\n",
              "    <tr style=\"text-align: right;\">\n",
              "      <th></th>\n",
              "      <th>nome</th>\n",
              "      <th>tot</th>\n",
              "      <th>male</th>\n",
              "      <th>female</th>\n",
              "    </tr>\n",
              "  </thead>\n",
              "  <tbody>\n",
              "    <tr>\n",
              "      <th>0</th>\n",
              "      <td>A IPPOLITO</td>\n",
              "      <td>5</td>\n",
              "      <td>5</td>\n",
              "      <td>0</td>\n",
              "    </tr>\n",
              "    <tr>\n",
              "      <th>1</th>\n",
              "      <td>A MARIA</td>\n",
              "      <td>5</td>\n",
              "      <td>0</td>\n",
              "      <td>5</td>\n",
              "    </tr>\n",
              "    <tr>\n",
              "      <th>2</th>\n",
              "      <td>A. ANGELO</td>\n",
              "      <td>3</td>\n",
              "      <td>3</td>\n",
              "      <td>0</td>\n",
              "    </tr>\n",
              "  </tbody>\n",
              "</table>\n",
              "</div>\n",
              "    <div class=\"colab-df-buttons\">\n",
              "\n",
              "  <div class=\"colab-df-container\">\n",
              "    <button class=\"colab-df-convert\" onclick=\"convertToInteractive('df-13e53771-79c7-411f-8451-2b39c8606488')\"\n",
              "            title=\"Convert this dataframe to an interactive table.\"\n",
              "            style=\"display:none;\">\n",
              "\n",
              "  <svg xmlns=\"http://www.w3.org/2000/svg\" height=\"24px\" viewBox=\"0 -960 960 960\">\n",
              "    <path d=\"M120-120v-720h720v720H120Zm60-500h600v-160H180v160Zm220 220h160v-160H400v160Zm0 220h160v-160H400v160ZM180-400h160v-160H180v160Zm440 0h160v-160H620v160ZM180-180h160v-160H180v160Zm440 0h160v-160H620v160Z\"/>\n",
              "  </svg>\n",
              "    </button>\n",
              "\n",
              "  <style>\n",
              "    .colab-df-container {\n",
              "      display:flex;\n",
              "      gap: 12px;\n",
              "    }\n",
              "\n",
              "    .colab-df-convert {\n",
              "      background-color: #E8F0FE;\n",
              "      border: none;\n",
              "      border-radius: 50%;\n",
              "      cursor: pointer;\n",
              "      display: none;\n",
              "      fill: #1967D2;\n",
              "      height: 32px;\n",
              "      padding: 0 0 0 0;\n",
              "      width: 32px;\n",
              "    }\n",
              "\n",
              "    .colab-df-convert:hover {\n",
              "      background-color: #E2EBFA;\n",
              "      box-shadow: 0px 1px 2px rgba(60, 64, 67, 0.3), 0px 1px 3px 1px rgba(60, 64, 67, 0.15);\n",
              "      fill: #174EA6;\n",
              "    }\n",
              "\n",
              "    .colab-df-buttons div {\n",
              "      margin-bottom: 4px;\n",
              "    }\n",
              "\n",
              "    [theme=dark] .colab-df-convert {\n",
              "      background-color: #3B4455;\n",
              "      fill: #D2E3FC;\n",
              "    }\n",
              "\n",
              "    [theme=dark] .colab-df-convert:hover {\n",
              "      background-color: #434B5C;\n",
              "      box-shadow: 0px 1px 3px 1px rgba(0, 0, 0, 0.15);\n",
              "      filter: drop-shadow(0px 1px 2px rgba(0, 0, 0, 0.3));\n",
              "      fill: #FFFFFF;\n",
              "    }\n",
              "  </style>\n",
              "\n",
              "    <script>\n",
              "      const buttonEl =\n",
              "        document.querySelector('#df-13e53771-79c7-411f-8451-2b39c8606488 button.colab-df-convert');\n",
              "      buttonEl.style.display =\n",
              "        google.colab.kernel.accessAllowed ? 'block' : 'none';\n",
              "\n",
              "      async function convertToInteractive(key) {\n",
              "        const element = document.querySelector('#df-13e53771-79c7-411f-8451-2b39c8606488');\n",
              "        const dataTable =\n",
              "          await google.colab.kernel.invokeFunction('convertToInteractive',\n",
              "                                                    [key], {});\n",
              "        if (!dataTable) return;\n",
              "\n",
              "        const docLinkHtml = 'Like what you see? Visit the ' +\n",
              "          '<a target=\"_blank\" href=https://colab.research.google.com/notebooks/data_table.ipynb>data table notebook</a>'\n",
              "          + ' to learn more about interactive tables.';\n",
              "        element.innerHTML = '';\n",
              "        dataTable['output_type'] = 'display_data';\n",
              "        await google.colab.output.renderOutput(dataTable, element);\n",
              "        const docLink = document.createElement('div');\n",
              "        docLink.innerHTML = docLinkHtml;\n",
              "        element.appendChild(docLink);\n",
              "      }\n",
              "    </script>\n",
              "  </div>\n",
              "\n",
              "\n",
              "<div id=\"df-695817b0-7c90-4298-93fc-e16baabbca74\">\n",
              "  <button class=\"colab-df-quickchart\" onclick=\"quickchart('df-695817b0-7c90-4298-93fc-e16baabbca74')\"\n",
              "            title=\"Suggest charts\"\n",
              "            style=\"display:none;\">\n",
              "\n",
              "<svg xmlns=\"http://www.w3.org/2000/svg\" height=\"24px\"viewBox=\"0 0 24 24\"\n",
              "     width=\"24px\">\n",
              "    <g>\n",
              "        <path d=\"M19 3H5c-1.1 0-2 .9-2 2v14c0 1.1.9 2 2 2h14c1.1 0 2-.9 2-2V5c0-1.1-.9-2-2-2zM9 17H7v-7h2v7zm4 0h-2V7h2v10zm4 0h-2v-4h2v4z\"/>\n",
              "    </g>\n",
              "</svg>\n",
              "  </button>\n",
              "\n",
              "<style>\n",
              "  .colab-df-quickchart {\n",
              "      --bg-color: #E8F0FE;\n",
              "      --fill-color: #1967D2;\n",
              "      --hover-bg-color: #E2EBFA;\n",
              "      --hover-fill-color: #174EA6;\n",
              "      --disabled-fill-color: #AAA;\n",
              "      --disabled-bg-color: #DDD;\n",
              "  }\n",
              "\n",
              "  [theme=dark] .colab-df-quickchart {\n",
              "      --bg-color: #3B4455;\n",
              "      --fill-color: #D2E3FC;\n",
              "      --hover-bg-color: #434B5C;\n",
              "      --hover-fill-color: #FFFFFF;\n",
              "      --disabled-bg-color: #3B4455;\n",
              "      --disabled-fill-color: #666;\n",
              "  }\n",
              "\n",
              "  .colab-df-quickchart {\n",
              "    background-color: var(--bg-color);\n",
              "    border: none;\n",
              "    border-radius: 50%;\n",
              "    cursor: pointer;\n",
              "    display: none;\n",
              "    fill: var(--fill-color);\n",
              "    height: 32px;\n",
              "    padding: 0;\n",
              "    width: 32px;\n",
              "  }\n",
              "\n",
              "  .colab-df-quickchart:hover {\n",
              "    background-color: var(--hover-bg-color);\n",
              "    box-shadow: 0 1px 2px rgba(60, 64, 67, 0.3), 0 1px 3px 1px rgba(60, 64, 67, 0.15);\n",
              "    fill: var(--button-hover-fill-color);\n",
              "  }\n",
              "\n",
              "  .colab-df-quickchart-complete:disabled,\n",
              "  .colab-df-quickchart-complete:disabled:hover {\n",
              "    background-color: var(--disabled-bg-color);\n",
              "    fill: var(--disabled-fill-color);\n",
              "    box-shadow: none;\n",
              "  }\n",
              "\n",
              "  .colab-df-spinner {\n",
              "    border: 2px solid var(--fill-color);\n",
              "    border-color: transparent;\n",
              "    border-bottom-color: var(--fill-color);\n",
              "    animation:\n",
              "      spin 1s steps(1) infinite;\n",
              "  }\n",
              "\n",
              "  @keyframes spin {\n",
              "    0% {\n",
              "      border-color: transparent;\n",
              "      border-bottom-color: var(--fill-color);\n",
              "      border-left-color: var(--fill-color);\n",
              "    }\n",
              "    20% {\n",
              "      border-color: transparent;\n",
              "      border-left-color: var(--fill-color);\n",
              "      border-top-color: var(--fill-color);\n",
              "    }\n",
              "    30% {\n",
              "      border-color: transparent;\n",
              "      border-left-color: var(--fill-color);\n",
              "      border-top-color: var(--fill-color);\n",
              "      border-right-color: var(--fill-color);\n",
              "    }\n",
              "    40% {\n",
              "      border-color: transparent;\n",
              "      border-right-color: var(--fill-color);\n",
              "      border-top-color: var(--fill-color);\n",
              "    }\n",
              "    60% {\n",
              "      border-color: transparent;\n",
              "      border-right-color: var(--fill-color);\n",
              "    }\n",
              "    80% {\n",
              "      border-color: transparent;\n",
              "      border-right-color: var(--fill-color);\n",
              "      border-bottom-color: var(--fill-color);\n",
              "    }\n",
              "    90% {\n",
              "      border-color: transparent;\n",
              "      border-bottom-color: var(--fill-color);\n",
              "    }\n",
              "  }\n",
              "</style>\n",
              "\n",
              "  <script>\n",
              "    async function quickchart(key) {\n",
              "      const quickchartButtonEl =\n",
              "        document.querySelector('#' + key + ' button');\n",
              "      quickchartButtonEl.disabled = true;  // To prevent multiple clicks.\n",
              "      quickchartButtonEl.classList.add('colab-df-spinner');\n",
              "      try {\n",
              "        const charts = await google.colab.kernel.invokeFunction(\n",
              "            'suggestCharts', [key], {});\n",
              "      } catch (error) {\n",
              "        console.error('Error during call to suggestCharts:', error);\n",
              "      }\n",
              "      quickchartButtonEl.classList.remove('colab-df-spinner');\n",
              "      quickchartButtonEl.classList.add('colab-df-quickchart-complete');\n",
              "    }\n",
              "    (() => {\n",
              "      let quickchartButtonEl =\n",
              "        document.querySelector('#df-695817b0-7c90-4298-93fc-e16baabbca74 button');\n",
              "      quickchartButtonEl.style.display =\n",
              "        google.colab.kernel.accessAllowed ? 'block' : 'none';\n",
              "    })();\n",
              "  </script>\n",
              "</div>\n",
              "\n",
              "    </div>\n",
              "  </div>\n"
            ],
            "application/vnd.google.colaboratory.intrinsic+json": {
              "type": "dataframe",
              "variable_name": "italian_names",
              "summary": "{\n  \"name\": \"italian_names\",\n  \"rows\": 32844,\n  \"fields\": [\n    {\n      \"column\": \"nome\",\n      \"properties\": {\n        \"dtype\": \"string\",\n        \"num_unique_values\": 32837,\n        \"samples\": [\n          \"CRISTINA ESTER\",\n          \"MARIA CINZIA\",\n          \"DOMENICO WAL\"\n        ],\n        \"semantic_type\": \"\",\n        \"description\": \"\"\n      }\n    },\n    {\n      \"column\": \"tot\",\n      \"properties\": {\n        \"dtype\": \"number\",\n        \"std\": 2305,\n        \"min\": 1,\n        \"max\": 191186,\n        \"num_unique_values\": 1072,\n        \"samples\": [\n          52301,\n          447,\n          11085\n        ],\n        \"semantic_type\": \"\",\n        \"description\": \"\"\n      }\n    },\n    {\n      \"column\": \"male\",\n      \"properties\": {\n        \"dtype\": \"number\",\n        \"std\": 2289,\n        \"min\": 0,\n        \"max\": 191140,\n        \"num_unique_values\": 843,\n        \"samples\": [\n          1583,\n          137,\n          5068\n        ],\n        \"semantic_type\": \"\",\n        \"description\": \"\"\n      }\n    },\n    {\n      \"column\": \"female\",\n      \"properties\": {\n        \"dtype\": \"number\",\n        \"std\": 281,\n        \"min\": 0,\n        \"max\": 15702,\n        \"num_unique_values\": 500,\n        \"samples\": [\n          334,\n          75,\n          5360\n        ],\n        \"semantic_type\": \"\",\n        \"description\": \"\"\n      }\n    }\n  ]\n}"
            }
          },
          "metadata": {},
          "execution_count": 4
        }
      ]
    },
    {
      "cell_type": "code",
      "source": [
        "italian_words = italian_names['nome'].astype(str).to_numpy()\n",
        "spanish_words = spanish_names['name'].astype(str).to_numpy()"
      ],
      "metadata": {
        "id": "00fm4oEkl_Ql"
      },
      "execution_count": 5,
      "outputs": []
    },
    {
      "cell_type": "code",
      "source": [
        "class NlpLab2WordsTokenizer:\n",
        "\n",
        "  def __init__(self, words):\n",
        "    self.words = [NlpLab2WordsTokenizer.clean_name(word) for word in words]\n",
        "    self.chars = sorted(list(set(''.join(self.words))))\n",
        "    self.stoi = {s:i+1 for i,s in enumerate(self.chars)}\n",
        "    self.stoi['.'] = 0\n",
        "    self.itos = {i:s for s,i in self.stoi.items()}\n",
        "\n",
        "  def __len__(self):\n",
        "    return len(self.words)\n",
        "\n",
        "  def itos_len(self):\n",
        "    return len(self.itos)\n",
        "\n",
        "  def __getitem__(self, idx):\n",
        "    if type(idx) == str:\n",
        "      if idx in self.stoi.keys():\n",
        "        return self.stoi[idx]\n",
        "      else:\n",
        "        return 0\n",
        "\n",
        "    if type(idx) == int:\n",
        "      if idx in self.itos.keys():\n",
        "        return self.itos[idx]\n",
        "      else:\n",
        "        return '.'\n",
        "\n",
        "  def __iter__(self):\n",
        "    for word in self.words:\n",
        "      yield word\n",
        "\n",
        "  def show_vocab(self):\n",
        "    print(self.itos)\n",
        "\n",
        "  @staticmethod\n",
        "  def clean_name(name):\n",
        "    # Remove numbers and special characters, keeping only letters and spaces\n",
        "    return ''.join(\n",
        "        [i for i in name.lower() if str.isalpha(i) or i == \" \"]\n",
        "      )\\\n",
        "    .strip()"
      ],
      "metadata": {
        "id": "f9odi8KlyK3V"
      },
      "execution_count": 6,
      "outputs": []
    },
    {
      "cell_type": "markdown",
      "source": [
        "## Dataset Preparation\n",
        "\n",
        "The cleaned names are then transformed into training, development, and validation datasets using a sliding window approach.\n",
        "\n",
        "*   **`block_size`:** Determines the context window size (number of previous characters considered when predicting the next character).\n",
        "*   **`build_dataset`:**  Creates input-output pairs (X, Y) for training.  X represents the context (sequence of characters), and Y represents the target character to predict.\n",
        "\n",
        "\n"
      ],
      "metadata": {
        "id": "zIGqx2OCjgR-"
      }
    },
    {
      "cell_type": "code",
      "source": [
        "import torch\n",
        "import random\n",
        "import torch.nn as nn\n",
        "import torch.nn.functional as F\n",
        "import matplotlib.pyplot as plt\n",
        "\n",
        "block_size = 5\n",
        "g_batch_size = 32\n",
        "\n",
        "torch.manual_seed(0)\n",
        "random.seed(0)\n",
        "\n",
        "def test_train_validation_split(tokenizer: NlpLab2WordsTokenizer):\n",
        "\n",
        "  def build_dataset(tokenizer):\n",
        "    X, Y = [], []\n",
        "    words = tokenizer.words\n",
        "    random.shuffle(tokenizer.words)\n",
        "    for w in words:\n",
        "      context = [0] * block_size\n",
        "      for ch in w + '.':\n",
        "        ix = tokenizer[ch]\n",
        "        X.append(context)\n",
        "        Y.append(ix)\n",
        "        context = context[1:] + [ix] # crop and append\n",
        "\n",
        "    X = torch.tensor(X)\n",
        "    Y = torch.tensor(Y)\n",
        "    print(X.shape, Y.shape)\n",
        "    return torch.utils.data.TensorDataset(X, Y) # Return TensorDataset instead of DataLoader\n",
        "\n",
        "  n1 = int(0.8*len(tokenizer))\n",
        "  n2 = int(0.9*len(tokenizer))\n",
        "  dataset = build_dataset(tokenizer)\n",
        "\n",
        "  # Create DataLoaders from the splits\n",
        "  train_dataset = torch.utils.data.DataLoader(\n",
        "      dataset=torch.utils.data.Subset(dataset, range(0, n1)),\n",
        "      batch_size=g_batch_size,\n",
        "      shuffle=True\n",
        "  )\n",
        "  dev_dataset = torch.utils.data.DataLoader(\n",
        "      dataset=torch.utils.data.Subset(dataset, range(n1, n2)),\n",
        "      batch_size=g_batch_size,\n",
        "      shuffle=False\n",
        "  )\n",
        "  validation_dataset = torch.utils.data.DataLoader(\n",
        "      dataset=torch.utils.data.Subset(dataset, range(n2, len(tokenizer))),\n",
        "      batch_size=g_batch_size,\n",
        "      shuffle=False\n",
        "  )\n",
        "  print(\"Train dataset size:\", len(train_dataset.dataset))\n",
        "  print(\"Dev dataset size:\", len(dev_dataset.dataset))\n",
        "  print(\"Validation dataset size:\", len(validation_dataset.dataset))\n",
        "\n",
        "  return train_dataset, dev_dataset, validation_dataset"
      ],
      "metadata": {
        "id": "VuhQ43ic3liI"
      },
      "execution_count": 7,
      "outputs": []
    },
    {
      "cell_type": "markdown",
      "source": [
        "\n",
        "## Model Architecture\n",
        "\n",
        "A character-level language model is defined using a feedforward neural network:\n",
        "\n",
        "*   **Embedding Layer:** Maps each character to a vector representation.\n",
        "*   **Linear Layers:**  Process the concatenated character embeddings to predict the probability distribution over the vocabulary of characters.\n",
        "*   **ReLU Activation:**  Introduces non-linearity.\n",
        "\n"
      ],
      "metadata": {
        "id": "nivdhaupjZo_"
      }
    },
    {
      "cell_type": "code",
      "source": [
        "\n",
        "class FeedForwardNet(torch.nn.Module):\n",
        "\n",
        "    def __init__(self, chars_number=39, embedding_dim=10, hidden_dim=300, context_size=block_size):\n",
        "        super().__init__()\n",
        "        self.context_size = context_size\n",
        "        self.embedding = torch.nn.Embedding(chars_number, embedding_dim)\n",
        "        self.model = torch.nn.Sequential(\n",
        "            torch.nn.Linear(context_size * embedding_dim, hidden_dim * 3),\n",
        "            torch.nn.ReLU(),\n",
        "            torch.nn.Linear(hidden_dim * 3, hidden_dim),\n",
        "            torch.nn.ReLU(),\n",
        "            torch.nn.Linear(hidden_dim, chars_number),\n",
        "            # The model uses CrossEntr\n",
        "        )\n",
        "\n",
        "    def forward(self, x):\n",
        "        # x shape: (batch_size, context_size)\n",
        "        if not torch.all(x >= 0) and torch.all(x < self.embedding.num_embeddings):\n",
        "            raise ValueError(\"Inappropriate input data. One of the vector contains the value the embedding can not process\")\n",
        "\n",
        "        emb = self.embedding(x)  # shape: (batch_size, context_size, embedding_dim)\n",
        "        emb = emb.view(emb.shape[0], -1)  # shape: (batch_size, context_size * embedding_dim)\n",
        "        return self.model(emb)\n",
        "\n",
        "    def generate_masked_names(self, mask, tokenizer, num_names=10):\n",
        "      \"\"\"\n",
        "        The masked names generator\n",
        "      \"\"\"\n",
        "      generated_names = []\n",
        "      for _ in range(num_names):\n",
        "          context = [0] * self.context_size\n",
        "          name = \"\"\n",
        "          for char in mask:\n",
        "            if char == \"#\":\n",
        "              input_tensor = torch.tensor([context], dtype=torch.long).to(device)\n",
        "              output = self.forward(input_tensor)\n",
        "              probabilities = F.softmax(output, dim=1)\n",
        "              next_char_index = torch.multinomial(probabilities, num_samples=1).item()\n",
        "              if next_char_index == 0:  # End of name\n",
        "                  break\n",
        "              next_char = tokenizer[next_char_index]\n",
        "              name += next_char\n",
        "              context = context[1:] + [next_char_index]\n",
        "            else:\n",
        "              if char in tokenizer.stoi:\n",
        "                ix = tokenizer[char]\n",
        "                name += char\n",
        "                context = context[1:] + [ix]\n",
        "              else:\n",
        "                # Handle characters not in the vocabulary\n",
        "                print(f\"Warning: Character '{char}' not in vocabulary. Skipping.\")\n",
        "                continue\n",
        "          generated_names.append(name)\n",
        "      return generated_names\n",
        "\n",
        "    def generate_names_starting_with(self, prefix, tokenizer, num_names=10, max_len=15):\n",
        "      \"\"\"\n",
        "      This is a particularly non-efficient N +\n",
        "      \"\"\"\n",
        "      generated_names = []\n",
        "      for _ in range(num_names):\n",
        "          context = [0] * self.context_size\n",
        "          name = \"\"\n",
        "          # Initialize context with prefix\n",
        "          for char in prefix:\n",
        "              if char in tokenizer.stoi:\n",
        "                ix = tokenizer[char]\n",
        "                name += char\n",
        "                context = context[1:] + [ix]\n",
        "              else:\n",
        "                # Handle characters not in the vocabulary\n",
        "                print(f\"Warning: Character '{char}' not in vocabulary. Skipping.\")\n",
        "                continue\n",
        "\n",
        "          for _ in range(max_len - len(prefix)):\n",
        "              input_tensor = torch.tensor([context], dtype=torch.long).to(device)\n",
        "              output = self.forward(input_tensor)\n",
        "              probabilities = F.softmax(output, dim=1)\n",
        "              next_char_index = torch.multinomial(probabilities, num_samples=1).item()\n",
        "\n",
        "              if next_char_index == 0:  # End of name\n",
        "                  break\n",
        "              next_char = tokenizer[next_char_index]\n",
        "              name += next_char\n",
        "              context = context[1:] + [next_char_index]\n",
        "          generated_names.append(name)\n",
        "      return generated_names\n",
        "\n"
      ],
      "metadata": {
        "id": "QUQdvJd857G_"
      },
      "execution_count": 8,
      "outputs": []
    },
    {
      "cell_type": "markdown",
      "source": [
        "# The model selection and training function"
      ],
      "metadata": {
        "id": "njXxwAiI3dBP"
      }
    },
    {
      "cell_type": "code",
      "source": [
        "import matplotlib.pyplot as plt\n",
        "from tqdm import tqdm\n",
        "\n",
        "device = torch.device(\"cuda\" if torch.cuda.is_available() else \"cpu\")\n",
        "\n",
        "def train_model(model, train_dataset, dev_dataset, epochs=3, lr=0.1):\n",
        "    criterion = nn.CrossEntropyLoss()\n",
        "    optimizer = torch.optim.SGD(model.parameters(), lr=lr)\n",
        "\n",
        "    train_losses = []\n",
        "    dev_losses = []\n",
        "\n",
        "    for epoch in range(epochs):\n",
        "        model.train()\n",
        "        train_loss = 0\n",
        "        for X, y in tqdm(train_dataset, desc=f\"Epoch {epoch+1}/{epochs} - Training\"):\n",
        "            X, y = X.to(device), y.to(device)\n",
        "            optimizer.zero_grad()\n",
        "            output = model(X)\n",
        "            loss = criterion(output, y)\n",
        "            loss.backward()\n",
        "            optimizer.step()\n",
        "            train_loss += loss.item()\n",
        "        train_losses.append(train_loss / len(train_dataset))\n",
        "\n",
        "        model.eval()\n",
        "        dev_loss = 0\n",
        "        with torch.no_grad():\n",
        "            for X, y in dev_dataset:\n",
        "                X, y = X.to(device), y.to(device)\n",
        "                output = model(X)\n",
        "                loss = criterion(output, y)\n",
        "                dev_loss += loss.item()\n",
        "        dev_losses.append(dev_loss / len(dev_dataset))\n",
        "\n",
        "        print(f\"Epoch {epoch+1}/{epochs}, Train Loss: {train_losses[-1]}, Dev Loss: {dev_losses[-1]}\")\n",
        "\n",
        "    return train_losses, dev_losses\n",
        "\n"
      ],
      "metadata": {
        "id": "pppi1qI-s5DY"
      },
      "execution_count": 9,
      "outputs": []
    },
    {
      "cell_type": "markdown",
      "source": [
        "#General task Exercise 2A:\n",
        "\n",
        "Train a character-level language model to generate names (persons, companies, animals, etc) in your language of choice. Assess your model's quality.\n",
        "\n",
        "In this excercise it's been decided to choose an Italian names dataset.\n",
        "\n",
        "The pipeline as follows:\n",
        "1. Tokenization and data preparation\n",
        "2. Best hyperparams selection (tuning)\n",
        "3. Final epoch training and Metrics collection"
      ],
      "metadata": {
        "id": "aJ1oraoP3pZD"
      }
    },
    {
      "cell_type": "code",
      "source": [
        "italian_names_tokenizer = NlpLab2WordsTokenizer(italian_words)\n",
        "italian_train_dataset, italian_dev_dataset, italian_validation_dataset = test_train_validation_split(italian_names_tokenizer)"
      ],
      "metadata": {
        "id": "8Jg7llx7k_X1",
        "colab": {
          "base_uri": "https://localhost:8080/"
        },
        "outputId": "87418fe5-2f3d-4b9c-be4e-b77130df69ab"
      },
      "execution_count": 10,
      "outputs": [
        {
          "output_type": "stream",
          "name": "stdout",
          "text": [
            "torch.Size([435769, 5]) torch.Size([435769])\n",
            "Train dataset size: 26275\n",
            "Dev dataset size: 3284\n",
            "Validation dataset size: 3285\n"
          ]
        }
      ]
    },
    {
      "cell_type": "code",
      "source": [
        "import optuna\n",
        "\n",
        "\n",
        "def fit_objective(trial):\n",
        "    # Define the hyperparameters to be tuned\n",
        "    lr = trial.suggest_float(\"lr\", 1e-5, 1e-1, log=True)\n",
        "    embedding_dim = trial.suggest_int(\"embedding_dim\", 10, 100)\n",
        "    hidden_dim = trial.suggest_int(\"hidden_dim\", 100, 500)\n",
        "\n",
        "    # Create a new model instance with the suggested hyperparameters\n",
        "    model = FeedForwardNet(italian_names_tokenizer.itos_len(), embedding_dim=embedding_dim, hidden_dim=hidden_dim).to(device)\n",
        "\n",
        "    # Train the model\n",
        "    train_losses, dev_losses = train_model(model, italian_train_dataset, italian_dev_dataset, epochs=5, lr=lr) # Here I reduced epochs for faster tuning\n",
        "\n",
        "    # Return the validation loss as the objective value to minimize\n",
        "    return dev_losses[-1]\n",
        "\n",
        "study = optuna.create_study(direction=\"minimize\")\n",
        "study.optimize(fit_objective, n_trials=20)\n",
        "\n",
        "# Print the best hyperparameters and the corresponding validation loss\n",
        "print(\"Best hyperparameters:\", study.best_params)\n",
        "print(\"Best validation loss:\", study.best_value)\n",
        "\n",
        "# Train the final model with the best hyperparameters\n",
        "italian_model = FeedForwardNet(italian_names_tokenizer.itos_len(), embedding_dim=study.best_params['embedding_dim'], hidden_dim=study.best_params['hidden_dim']).to(device)\n",
        "\n",
        "it_train_losses, it_dev_losses = train_model(italian_model, italian_train_dataset, italian_dev_dataset, epochs=20, lr=study.best_params['lr'])\n"
      ],
      "metadata": {
        "id": "sOTPBCIstE36",
        "colab": {
          "base_uri": "https://localhost:8080/"
        },
        "outputId": "68948367-e3b3-4264-ddcb-5493526efa2c"
      },
      "execution_count": 11,
      "outputs": [
        {
          "output_type": "stream",
          "name": "stderr",
          "text": [
            "[I 2025-03-02 21:28:38,534] A new study created in memory with name: no-name-2e97fa2b-1a76-480a-ac7a-3ed1f18be5b7\n",
            "Epoch 1/5 - Training: 100%|██████████| 822/822 [00:05<00:00, 158.77it/s]\n"
          ]
        },
        {
          "output_type": "stream",
          "name": "stdout",
          "text": [
            "Epoch 1/5, Train Loss: 2.090957506149645, Dev Loss: 2.3952243420684223\n"
          ]
        },
        {
          "output_type": "stream",
          "name": "stderr",
          "text": [
            "Epoch 2/5 - Training: 100%|██████████| 822/822 [00:05<00:00, 153.96it/s]\n"
          ]
        },
        {
          "output_type": "stream",
          "name": "stdout",
          "text": [
            "Epoch 2/5, Train Loss: 1.657807004712794, Dev Loss: 2.221151724602412\n"
          ]
        },
        {
          "output_type": "stream",
          "name": "stderr",
          "text": [
            "Epoch 3/5 - Training: 100%|██████████| 822/822 [00:04<00:00, 171.75it/s]\n"
          ]
        },
        {
          "output_type": "stream",
          "name": "stdout",
          "text": [
            "Epoch 3/5, Train Loss: 1.5004397014341795, Dev Loss: 1.6136408326695266\n"
          ]
        },
        {
          "output_type": "stream",
          "name": "stderr",
          "text": [
            "Epoch 4/5 - Training: 100%|██████████| 822/822 [00:03<00:00, 211.84it/s]\n"
          ]
        },
        {
          "output_type": "stream",
          "name": "stdout",
          "text": [
            "Epoch 4/5, Train Loss: 1.4048925566412236, Dev Loss: 1.6857746121952835\n"
          ]
        },
        {
          "output_type": "stream",
          "name": "stderr",
          "text": [
            "Epoch 5/5 - Training: 100%|██████████| 822/822 [00:04<00:00, 195.54it/s]\n",
            "[I 2025-03-02 21:29:15,153] Trial 0 finished with value: 1.5618715546663524 and parameters: {'lr': 0.07480832009996836, 'embedding_dim': 49, 'hidden_dim': 267}. Best is trial 0 with value: 1.5618715546663524.\n"
          ]
        },
        {
          "output_type": "stream",
          "name": "stdout",
          "text": [
            "Epoch 5/5, Train Loss: 1.339473882187022, Dev Loss: 1.5618715546663524\n"
          ]
        },
        {
          "output_type": "stream",
          "name": "stderr",
          "text": [
            "Epoch 1/5 - Training: 100%|██████████| 822/822 [00:02<00:00, 343.84it/s]\n"
          ]
        },
        {
          "output_type": "stream",
          "name": "stdout",
          "text": [
            "Epoch 1/5, Train Loss: 3.490866224551143, Dev Loss: 3.487065007385698\n"
          ]
        },
        {
          "output_type": "stream",
          "name": "stderr",
          "text": [
            "Epoch 2/5 - Training: 100%|██████████| 822/822 [00:01<00:00, 444.29it/s]\n"
          ]
        },
        {
          "output_type": "stream",
          "name": "stdout",
          "text": [
            "Epoch 2/5, Train Loss: 3.4855179940407, Dev Loss: 3.48192275843574\n"
          ]
        },
        {
          "output_type": "stream",
          "name": "stderr",
          "text": [
            "Epoch 3/5 - Training: 100%|██████████| 822/822 [00:01<00:00, 448.57it/s]\n"
          ]
        },
        {
          "output_type": "stream",
          "name": "stdout",
          "text": [
            "Epoch 3/5, Train Loss: 3.480255999704347, Dev Loss: 3.4767833635645005\n"
          ]
        },
        {
          "output_type": "stream",
          "name": "stderr",
          "text": [
            "Epoch 4/5 - Training: 100%|██████████| 822/822 [00:01<00:00, 440.09it/s]\n"
          ]
        },
        {
          "output_type": "stream",
          "name": "stdout",
          "text": [
            "Epoch 4/5, Train Loss: 3.4751239408831816, Dev Loss: 3.4716452603201264\n"
          ]
        },
        {
          "output_type": "stream",
          "name": "stderr",
          "text": [
            "Epoch 5/5 - Training: 100%|██████████| 822/822 [00:01<00:00, 449.93it/s]\n",
            "[I 2025-03-02 21:29:25,430] Trial 1 finished with value: 3.466467739308922 and parameters: {'lr': 2.5906248678100585e-05, 'embedding_dim': 61, 'hidden_dim': 126}. Best is trial 0 with value: 1.5618715546663524.\n"
          ]
        },
        {
          "output_type": "stream",
          "name": "stdout",
          "text": [
            "Epoch 5/5, Train Loss: 3.469949861802614, Dev Loss: 3.466467739308922\n"
          ]
        },
        {
          "output_type": "stream",
          "name": "stderr",
          "text": [
            "Epoch 1/5 - Training: 100%|██████████| 822/822 [00:06<00:00, 126.72it/s]\n"
          ]
        },
        {
          "output_type": "stream",
          "name": "stdout",
          "text": [
            "Epoch 1/5, Train Loss: 2.057420932898556, Dev Loss: 2.052932218440528\n"
          ]
        },
        {
          "output_type": "stream",
          "name": "stderr",
          "text": [
            "Epoch 2/5 - Training: 100%|██████████| 822/822 [00:05<00:00, 149.42it/s]\n"
          ]
        },
        {
          "output_type": "stream",
          "name": "stdout",
          "text": [
            "Epoch 2/5, Train Loss: 1.6241488783028875, Dev Loss: 1.6525598463502902\n"
          ]
        },
        {
          "output_type": "stream",
          "name": "stderr",
          "text": [
            "Epoch 3/5 - Training: 100%|██████████| 822/822 [00:06<00:00, 128.43it/s]\n"
          ]
        },
        {
          "output_type": "stream",
          "name": "stdout",
          "text": [
            "Epoch 3/5, Train Loss: 1.471615401932793, Dev Loss: 1.6309594697165257\n"
          ]
        },
        {
          "output_type": "stream",
          "name": "stderr",
          "text": [
            "Epoch 4/5 - Training: 100%|██████████| 822/822 [00:05<00:00, 155.20it/s]\n"
          ]
        },
        {
          "output_type": "stream",
          "name": "stdout",
          "text": [
            "Epoch 4/5, Train Loss: 1.3766776774341463, Dev Loss: 1.5984470763252776\n"
          ]
        },
        {
          "output_type": "stream",
          "name": "stderr",
          "text": [
            "Epoch 5/5 - Training: 100%|██████████| 822/822 [00:06<00:00, 132.26it/s]\n",
            "[I 2025-03-02 21:29:56,530] Trial 2 finished with value: 1.9041254254220759 and parameters: {'lr': 0.08657961272079609, 'embedding_dim': 35, 'hidden_dim': 476}. Best is trial 0 with value: 1.5618715546663524.\n"
          ]
        },
        {
          "output_type": "stream",
          "name": "stdout",
          "text": [
            "Epoch 5/5, Train Loss: 1.3124102288064006, Dev Loss: 1.9041254254220759\n"
          ]
        },
        {
          "output_type": "stream",
          "name": "stderr",
          "text": [
            "Epoch 1/5 - Training: 100%|██████████| 822/822 [00:02<00:00, 359.84it/s]\n"
          ]
        },
        {
          "output_type": "stream",
          "name": "stdout",
          "text": [
            "Epoch 1/5, Train Loss: 3.4859442635464264, Dev Loss: 3.4818479019461326\n"
          ]
        },
        {
          "output_type": "stream",
          "name": "stderr",
          "text": [
            "Epoch 2/5 - Training: 100%|██████████| 822/822 [00:02<00:00, 362.11it/s]\n"
          ]
        },
        {
          "output_type": "stream",
          "name": "stdout",
          "text": [
            "Epoch 2/5, Train Loss: 3.4767876805470226, Dev Loss: 3.4728456145351374\n"
          ]
        },
        {
          "output_type": "stream",
          "name": "stderr",
          "text": [
            "Epoch 3/5 - Training: 100%|██████████| 822/822 [00:03<00:00, 247.60it/s]\n"
          ]
        },
        {
          "output_type": "stream",
          "name": "stdout",
          "text": [
            "Epoch 3/5, Train Loss: 3.467767808849214, Dev Loss: 3.4638819185275476\n"
          ]
        },
        {
          "output_type": "stream",
          "name": "stderr",
          "text": [
            "Epoch 4/5 - Training: 100%|██████████| 822/822 [00:03<00:00, 250.07it/s]\n"
          ]
        },
        {
          "output_type": "stream",
          "name": "stdout",
          "text": [
            "Epoch 4/5, Train Loss: 3.458721259504629, Dev Loss: 3.4548939616934766\n"
          ]
        },
        {
          "output_type": "stream",
          "name": "stderr",
          "text": [
            "Epoch 5/5 - Training: 100%|██████████| 822/822 [00:02<00:00, 350.00it/s]\n",
            "[I 2025-03-02 21:30:10,653] Trial 3 finished with value: 3.4459185229921805 and parameters: {'lr': 2.1044834824474747e-05, 'embedding_dim': 22, 'hidden_dim': 246}. Best is trial 0 with value: 1.5618715546663524.\n"
          ]
        },
        {
          "output_type": "stream",
          "name": "stdout",
          "text": [
            "Epoch 5/5, Train Loss: 3.449512313462232, Dev Loss: 3.4459185229921805\n"
          ]
        },
        {
          "output_type": "stream",
          "name": "stderr",
          "text": [
            "Epoch 1/5 - Training: 100%|██████████| 822/822 [00:01<00:00, 496.10it/s]\n"
          ]
        },
        {
          "output_type": "stream",
          "name": "stdout",
          "text": [
            "Epoch 1/5, Train Loss: 3.4985351063619277, Dev Loss: 3.4951105326124767\n"
          ]
        },
        {
          "output_type": "stream",
          "name": "stderr",
          "text": [
            "Epoch 2/5 - Training: 100%|██████████| 822/822 [00:01<00:00, 494.88it/s]\n"
          ]
        },
        {
          "output_type": "stream",
          "name": "stdout",
          "text": [
            "Epoch 2/5, Train Loss: 3.493040115873889, Dev Loss: 3.4898157027161236\n"
          ]
        },
        {
          "output_type": "stream",
          "name": "stderr",
          "text": [
            "Epoch 3/5 - Training: 100%|██████████| 822/822 [00:01<00:00, 481.03it/s]\n"
          ]
        },
        {
          "output_type": "stream",
          "name": "stdout",
          "text": [
            "Epoch 3/5, Train Loss: 3.4878404822082705, Dev Loss: 3.4846016967180864\n"
          ]
        },
        {
          "output_type": "stream",
          "name": "stderr",
          "text": [
            "Epoch 4/5 - Training: 100%|██████████| 822/822 [00:01<00:00, 471.25it/s]\n"
          ]
        },
        {
          "output_type": "stream",
          "name": "stdout",
          "text": [
            "Epoch 4/5, Train Loss: 3.482595804253924, Dev Loss: 3.4793983246516254\n"
          ]
        },
        {
          "output_type": "stream",
          "name": "stderr",
          "text": [
            "Epoch 5/5 - Training: 100%|██████████| 822/822 [00:02<00:00, 328.18it/s]\n",
            "[I 2025-03-02 21:30:20,457] Trial 4 finished with value: 3.4742421849260055 and parameters: {'lr': 2.8416137653866804e-05, 'embedding_dim': 46, 'hidden_dim': 118}. Best is trial 0 with value: 1.5618715546663524.\n"
          ]
        },
        {
          "output_type": "stream",
          "name": "stdout",
          "text": [
            "Epoch 5/5, Train Loss: 3.477217787663722, Dev Loss: 3.4742421849260055\n"
          ]
        },
        {
          "output_type": "stream",
          "name": "stderr",
          "text": [
            "Epoch 1/5 - Training: 100%|██████████| 822/822 [00:02<00:00, 372.69it/s]\n"
          ]
        },
        {
          "output_type": "stream",
          "name": "stdout",
          "text": [
            "Epoch 1/5, Train Loss: 3.0398155012850054, Dev Loss: 2.760227404751824\n"
          ]
        },
        {
          "output_type": "stream",
          "name": "stderr",
          "text": [
            "Epoch 2/5 - Training: 100%|██████████| 822/822 [00:02<00:00, 378.07it/s]\n"
          ]
        },
        {
          "output_type": "stream",
          "name": "stdout",
          "text": [
            "Epoch 2/5, Train Loss: 2.590936688466084, Dev Loss: 2.488589865490071\n"
          ]
        },
        {
          "output_type": "stream",
          "name": "stderr",
          "text": [
            "Epoch 3/5 - Training: 100%|██████████| 822/822 [00:02<00:00, 356.75it/s]\n"
          ]
        },
        {
          "output_type": "stream",
          "name": "stdout",
          "text": [
            "Epoch 3/5, Train Loss: 2.376234586656529, Dev Loss: 2.3425710363295473\n"
          ]
        },
        {
          "output_type": "stream",
          "name": "stderr",
          "text": [
            "Epoch 4/5 - Training: 100%|██████████| 822/822 [00:02<00:00, 373.12it/s]\n"
          ]
        },
        {
          "output_type": "stream",
          "name": "stdout",
          "text": [
            "Epoch 4/5, Train Loss: 2.2539650884858013, Dev Loss: 2.252235818835138\n"
          ]
        },
        {
          "output_type": "stream",
          "name": "stderr",
          "text": [
            "Epoch 5/5 - Training: 100%|██████████| 822/822 [00:03<00:00, 270.13it/s]\n",
            "[I 2025-03-02 21:30:33,028] Trial 5 finished with value: 2.1731193505444573 and parameters: {'lr': 0.0032310761975820634, 'embedding_dim': 71, 'hidden_dim': 158}. Best is trial 0 with value: 1.5618715546663524.\n"
          ]
        },
        {
          "output_type": "stream",
          "name": "stdout",
          "text": [
            "Epoch 5/5, Train Loss: 2.1665717441670216, Dev Loss: 2.1731193505444573\n"
          ]
        },
        {
          "output_type": "stream",
          "name": "stderr",
          "text": [
            "Epoch 1/5 - Training: 100%|██████████| 822/822 [00:03<00:00, 207.36it/s]\n"
          ]
        },
        {
          "output_type": "stream",
          "name": "stdout",
          "text": [
            "Epoch 1/5, Train Loss: 2.9786539527331537, Dev Loss: 2.7370794398113363\n"
          ]
        },
        {
          "output_type": "stream",
          "name": "stderr",
          "text": [
            "Epoch 2/5 - Training: 100%|██████████| 822/822 [00:03<00:00, 225.92it/s]\n"
          ]
        },
        {
          "output_type": "stream",
          "name": "stdout",
          "text": [
            "Epoch 2/5, Train Loss: 2.5859737561566987, Dev Loss: 2.509453967936988\n"
          ]
        },
        {
          "output_type": "stream",
          "name": "stderr",
          "text": [
            "Epoch 3/5 - Training: 100%|██████████| 822/822 [00:04<00:00, 177.86it/s]\n"
          ]
        },
        {
          "output_type": "stream",
          "name": "stdout",
          "text": [
            "Epoch 3/5, Train Loss: 2.388060878228097, Dev Loss: 2.3642126807888735\n"
          ]
        },
        {
          "output_type": "stream",
          "name": "stderr",
          "text": [
            "Epoch 4/5 - Training: 100%|██████████| 822/822 [00:03<00:00, 224.90it/s]\n"
          ]
        },
        {
          "output_type": "stream",
          "name": "stdout",
          "text": [
            "Epoch 4/5, Train Loss: 2.2667343223472, Dev Loss: 2.2729301660963634\n"
          ]
        },
        {
          "output_type": "stream",
          "name": "stderr",
          "text": [
            "Epoch 5/5 - Training: 100%|██████████| 822/822 [00:03<00:00, 227.16it/s]\n",
            "[I 2025-03-02 21:30:53,513] Trial 6 finished with value: 2.2074962622911025 and parameters: {'lr': 0.002356936039178329, 'embedding_dim': 64, 'hidden_dim': 323}. Best is trial 0 with value: 1.5618715546663524.\n"
          ]
        },
        {
          "output_type": "stream",
          "name": "stdout",
          "text": [
            "Epoch 5/5, Train Loss: 2.184546777656769, Dev Loss: 2.2074962622911025\n"
          ]
        },
        {
          "output_type": "stream",
          "name": "stderr",
          "text": [
            "Epoch 1/5 - Training: 100%|██████████| 822/822 [00:07<00:00, 111.75it/s]\n"
          ]
        },
        {
          "output_type": "stream",
          "name": "stdout",
          "text": [
            "Epoch 1/5, Train Loss: 2.123199532791936, Dev Loss: 2.078179351334433\n"
          ]
        },
        {
          "output_type": "stream",
          "name": "stderr",
          "text": [
            "Epoch 2/5 - Training: 100%|██████████| 822/822 [00:06<00:00, 133.65it/s]\n"
          ]
        },
        {
          "output_type": "stream",
          "name": "stdout",
          "text": [
            "Epoch 2/5, Train Loss: 1.6723182835863164, Dev Loss: 1.8278076741301899\n"
          ]
        },
        {
          "output_type": "stream",
          "name": "stderr",
          "text": [
            "Epoch 3/5 - Training: 100%|██████████| 822/822 [00:07<00:00, 112.27it/s]\n"
          ]
        },
        {
          "output_type": "stream",
          "name": "stdout",
          "text": [
            "Epoch 3/5, Train Loss: 1.5142432287371652, Dev Loss: 1.716110136902448\n"
          ]
        },
        {
          "output_type": "stream",
          "name": "stderr",
          "text": [
            "Epoch 4/5 - Training: 100%|██████████| 822/822 [00:06<00:00, 132.53it/s]\n"
          ]
        },
        {
          "output_type": "stream",
          "name": "stdout",
          "text": [
            "Epoch 4/5, Train Loss: 1.4172935023940103, Dev Loss: 1.5978658731701305\n"
          ]
        },
        {
          "output_type": "stream",
          "name": "stderr",
          "text": [
            "Epoch 5/5 - Training: 100%|██████████| 822/822 [00:07<00:00, 115.50it/s]\n",
            "[I 2025-03-02 21:31:29,163] Trial 7 finished with value: 1.6136170862947854 and parameters: {'lr': 0.051462493139513066, 'embedding_dim': 61, 'hidden_dim': 492}. Best is trial 0 with value: 1.5618715546663524.\n"
          ]
        },
        {
          "output_type": "stream",
          "name": "stdout",
          "text": [
            "Epoch 5/5, Train Loss: 1.3468856575860304, Dev Loss: 1.6136170862947854\n"
          ]
        },
        {
          "output_type": "stream",
          "name": "stderr",
          "text": [
            "Epoch 1/5 - Training: 100%|██████████| 822/822 [00:05<00:00, 139.85it/s]\n"
          ]
        },
        {
          "output_type": "stream",
          "name": "stdout",
          "text": [
            "Epoch 1/5, Train Loss: 3.524201784980848, Dev Loss: 3.5228978476478057\n"
          ]
        },
        {
          "output_type": "stream",
          "name": "stderr",
          "text": [
            "Epoch 2/5 - Training: 100%|██████████| 822/822 [00:05<00:00, 137.13it/s]\n"
          ]
        },
        {
          "output_type": "stream",
          "name": "stdout",
          "text": [
            "Epoch 2/5, Train Loss: 3.5165107273417378, Dev Loss: 3.515424901999316\n"
          ]
        },
        {
          "output_type": "stream",
          "name": "stderr",
          "text": [
            "Epoch 3/5 - Training: 100%|██████████| 822/822 [00:05<00:00, 145.73it/s]\n"
          ]
        },
        {
          "output_type": "stream",
          "name": "stdout",
          "text": [
            "Epoch 3/5, Train Loss: 3.5089624757604296, Dev Loss: 3.508042687351264\n"
          ]
        },
        {
          "output_type": "stream",
          "name": "stderr",
          "text": [
            "Epoch 4/5 - Training: 100%|██████████| 822/822 [00:06<00:00, 130.68it/s]\n"
          ]
        },
        {
          "output_type": "stream",
          "name": "stdout",
          "text": [
            "Epoch 4/5, Train Loss: 3.5014150992507194, Dev Loss: 3.5007389355631706\n"
          ]
        },
        {
          "output_type": "stream",
          "name": "stderr",
          "text": [
            "Epoch 5/5 - Training: 100%|██████████| 822/822 [00:05<00:00, 149.93it/s]\n",
            "[I 2025-03-02 21:32:00,083] Trial 8 finished with value: 3.4935133480331273 and parameters: {'lr': 1.1096939660085378e-05, 'embedding_dim': 65, 'hidden_dim': 441}. Best is trial 0 with value: 1.5618715546663524.\n"
          ]
        },
        {
          "output_type": "stream",
          "name": "stdout",
          "text": [
            "Epoch 5/5, Train Loss: 3.494076927792997, Dev Loss: 3.4935133480331273\n"
          ]
        },
        {
          "output_type": "stream",
          "name": "stderr",
          "text": [
            "Epoch 1/5 - Training: 100%|██████████| 822/822 [00:02<00:00, 293.78it/s]\n"
          ]
        },
        {
          "output_type": "stream",
          "name": "stdout",
          "text": [
            "Epoch 1/5, Train Loss: 2.6806933067720884, Dev Loss: 2.425311808447236\n"
          ]
        },
        {
          "output_type": "stream",
          "name": "stderr",
          "text": [
            "Epoch 2/5 - Training: 100%|██████████| 822/822 [00:01<00:00, 414.12it/s]\n"
          ]
        },
        {
          "output_type": "stream",
          "name": "stdout",
          "text": [
            "Epoch 2/5, Train Loss: 2.283319855113389, Dev Loss: 2.243840464110513\n"
          ]
        },
        {
          "output_type": "stream",
          "name": "stderr",
          "text": [
            "Epoch 3/5 - Training: 100%|██████████| 822/822 [00:01<00:00, 415.28it/s]\n"
          ]
        },
        {
          "output_type": "stream",
          "name": "stdout",
          "text": [
            "Epoch 3/5, Train Loss: 2.12549601810692, Dev Loss: 2.148889707130136\n"
          ]
        },
        {
          "output_type": "stream",
          "name": "stderr",
          "text": [
            "Epoch 4/5 - Training: 100%|██████████| 822/822 [00:01<00:00, 415.60it/s]\n"
          ]
        },
        {
          "output_type": "stream",
          "name": "stdout",
          "text": [
            "Epoch 4/5, Train Loss: 2.0142997464124304, Dev Loss: 2.024494487105064\n"
          ]
        },
        {
          "output_type": "stream",
          "name": "stderr",
          "text": [
            "Epoch 5/5 - Training: 100%|██████████| 822/822 [00:01<00:00, 420.51it/s]\n",
            "[I 2025-03-02 21:32:11,299] Trial 9 finished with value: 1.94335516563897 and parameters: {'lr': 0.010291437760721885, 'embedding_dim': 22, 'hidden_dim': 199}. Best is trial 0 with value: 1.5618715546663524.\n"
          ]
        },
        {
          "output_type": "stream",
          "name": "stdout",
          "text": [
            "Epoch 5/5, Train Loss: 1.9201731297511544, Dev Loss: 1.94335516563897\n"
          ]
        },
        {
          "output_type": "stream",
          "name": "stderr",
          "text": [
            "Epoch 1/5 - Training: 100%|██████████| 822/822 [00:05<00:00, 141.22it/s]\n"
          ]
        },
        {
          "output_type": "stream",
          "name": "stdout",
          "text": [
            "Epoch 1/5, Train Loss: 3.422422896336465, Dev Loss: 3.351875837566783\n"
          ]
        },
        {
          "output_type": "stream",
          "name": "stderr",
          "text": [
            "Epoch 2/5 - Training: 100%|██████████| 822/822 [00:04<00:00, 172.55it/s]\n"
          ]
        },
        {
          "output_type": "stream",
          "name": "stdout",
          "text": [
            "Epoch 2/5, Train Loss: 3.2735060073453432, Dev Loss: 3.197329792004187\n"
          ]
        },
        {
          "output_type": "stream",
          "name": "stderr",
          "text": [
            "Epoch 3/5 - Training: 100%|██████████| 822/822 [00:05<00:00, 141.67it/s]\n"
          ]
        },
        {
          "output_type": "stream",
          "name": "stdout",
          "text": [
            "Epoch 3/5, Train Loss: 3.1155748985109537, Dev Loss: 3.049414849975734\n"
          ]
        },
        {
          "output_type": "stream",
          "name": "stderr",
          "text": [
            "Epoch 4/5 - Training: 100%|██████████| 822/822 [00:04<00:00, 174.47it/s]\n"
          ]
        },
        {
          "output_type": "stream",
          "name": "stdout",
          "text": [
            "Epoch 4/5, Train Loss: 2.984640291137417, Dev Loss: 2.9452528143392027\n"
          ]
        },
        {
          "output_type": "stream",
          "name": "stderr",
          "text": [
            "Epoch 5/5 - Training: 100%|██████████| 822/822 [00:04<00:00, 171.52it/s]\n",
            "[I 2025-03-02 21:32:38,387] Trial 10 finished with value: 2.878823058119098 and parameters: {'lr': 0.00028259228647246247, 'embedding_dim': 97, 'hidden_dim': 350}. Best is trial 0 with value: 1.5618715546663524.\n"
          ]
        },
        {
          "output_type": "stream",
          "name": "stdout",
          "text": [
            "Epoch 5/5, Train Loss: 2.8980984348450263, Dev Loss: 2.878823058119098\n"
          ]
        },
        {
          "output_type": "stream",
          "name": "stderr",
          "text": [
            "Epoch 1/5 - Training: 100%|██████████| 822/822 [00:05<00:00, 163.38it/s]\n"
          ]
        },
        {
          "output_type": "stream",
          "name": "stdout",
          "text": [
            "Epoch 1/5, Train Loss: 2.019302511592271, Dev Loss: 1.9311823231502645\n"
          ]
        },
        {
          "output_type": "stream",
          "name": "stderr",
          "text": [
            "Epoch 2/5 - Training: 100%|██████████| 822/822 [00:04<00:00, 196.33it/s]\n"
          ]
        },
        {
          "output_type": "stream",
          "name": "stdout",
          "text": [
            "Epoch 2/5, Train Loss: 1.6083072804802816, Dev Loss: 1.6335024816318624\n"
          ]
        },
        {
          "output_type": "stream",
          "name": "stderr",
          "text": [
            "Epoch 3/5 - Training: 100%|██████████| 822/822 [00:04<00:00, 168.75it/s]\n"
          ]
        },
        {
          "output_type": "stream",
          "name": "stdout",
          "text": [
            "Epoch 3/5, Train Loss: 1.460049451630191, Dev Loss: 1.6830783387989674\n"
          ]
        },
        {
          "output_type": "stream",
          "name": "stderr",
          "text": [
            "Epoch 4/5 - Training: 100%|██████████| 822/822 [00:04<00:00, 195.71it/s]\n"
          ]
        },
        {
          "output_type": "stream",
          "name": "stdout",
          "text": [
            "Epoch 4/5, Train Loss: 1.3673813013119709, Dev Loss: 1.6916998497490745\n"
          ]
        },
        {
          "output_type": "stream",
          "name": "stderr",
          "text": [
            "Epoch 5/5 - Training: 100%|██████████| 822/822 [00:04<00:00, 200.80it/s]\n",
            "[I 2025-03-02 21:33:01,880] Trial 11 finished with value: 1.6942641179538467 and parameters: {'lr': 0.09387991720516291, 'embedding_dim': 44, 'hidden_dim': 394}. Best is trial 0 with value: 1.5618715546663524.\n"
          ]
        },
        {
          "output_type": "stream",
          "name": "stdout",
          "text": [
            "Epoch 5/5, Train Loss: 1.3029266933020014, Dev Loss: 1.6942641179538467\n"
          ]
        },
        {
          "output_type": "stream",
          "name": "stderr",
          "text": [
            "Epoch 1/5 - Training: 100%|██████████| 822/822 [00:04<00:00, 186.19it/s]\n"
          ]
        },
        {
          "output_type": "stream",
          "name": "stdout",
          "text": [
            "Epoch 1/5, Train Loss: 2.391136085900077, Dev Loss: 2.1988178584182148\n"
          ]
        },
        {
          "output_type": "stream",
          "name": "stderr",
          "text": [
            "Epoch 2/5 - Training: 100%|██████████| 822/822 [00:03<00:00, 241.73it/s]\n"
          ]
        },
        {
          "output_type": "stream",
          "name": "stdout",
          "text": [
            "Epoch 2/5, Train Loss: 1.934088124555973, Dev Loss: 1.9615551742535193\n"
          ]
        },
        {
          "output_type": "stream",
          "name": "stderr",
          "text": [
            "Epoch 3/5 - Training: 100%|██████████| 822/822 [00:03<00:00, 241.93it/s]\n"
          ]
        },
        {
          "output_type": "stream",
          "name": "stdout",
          "text": [
            "Epoch 3/5, Train Loss: 1.7542305419044772, Dev Loss: 1.7885718085233449\n"
          ]
        },
        {
          "output_type": "stream",
          "name": "stderr",
          "text": [
            "Epoch 4/5 - Training: 100%|██████████| 822/822 [00:04<00:00, 200.60it/s]\n"
          ]
        },
        {
          "output_type": "stream",
          "name": "stdout",
          "text": [
            "Epoch 4/5, Train Loss: 1.633719106950319, Dev Loss: 1.7187459596152443\n"
          ]
        },
        {
          "output_type": "stream",
          "name": "stderr",
          "text": [
            "Epoch 5/5 - Training: 100%|██████████| 822/822 [00:03<00:00, 217.39it/s]\n",
            "[I 2025-03-02 21:33:21,892] Trial 12 finished with value: 1.7061090006411654 and parameters: {'lr': 0.017905552772787645, 'embedding_dim': 84, 'hidden_dim': 266}. Best is trial 0 with value: 1.5618715546663524.\n"
          ]
        },
        {
          "output_type": "stream",
          "name": "stdout",
          "text": [
            "Epoch 5/5, Train Loss: 1.545318824313853, Dev Loss: 1.7061090006411654\n"
          ]
        },
        {
          "output_type": "stream",
          "name": "stderr",
          "text": [
            "Epoch 1/5 - Training: 100%|██████████| 822/822 [00:04<00:00, 176.43it/s]\n"
          ]
        },
        {
          "output_type": "stream",
          "name": "stdout",
          "text": [
            "Epoch 1/5, Train Loss: 2.3251396766399237, Dev Loss: 2.049930941711352\n"
          ]
        },
        {
          "output_type": "stream",
          "name": "stderr",
          "text": [
            "Epoch 2/5 - Training: 100%|██████████| 822/822 [00:05<00:00, 144.21it/s]\n"
          ]
        },
        {
          "output_type": "stream",
          "name": "stdout",
          "text": [
            "Epoch 2/5, Train Loss: 1.8631441029028881, Dev Loss: 1.8405563079037712\n"
          ]
        },
        {
          "output_type": "stream",
          "name": "stderr",
          "text": [
            "Epoch 3/5 - Training: 100%|██████████| 822/822 [00:04<00:00, 177.22it/s]\n"
          ]
        },
        {
          "output_type": "stream",
          "name": "stdout",
          "text": [
            "Epoch 3/5, Train Loss: 1.6797396056263407, Dev Loss: 1.7658693946680977\n"
          ]
        },
        {
          "output_type": "stream",
          "name": "stderr",
          "text": [
            "Epoch 4/5 - Training: 100%|██████████| 822/822 [00:04<00:00, 168.58it/s]\n"
          ]
        },
        {
          "output_type": "stream",
          "name": "stdout",
          "text": [
            "Epoch 4/5, Train Loss: 1.563425810740232, Dev Loss: 1.672931180416959\n"
          ]
        },
        {
          "output_type": "stream",
          "name": "stderr",
          "text": [
            "Epoch 5/5 - Training: 100%|██████████| 822/822 [00:05<00:00, 152.84it/s]\n",
            "[I 2025-03-02 21:33:48,349] Trial 13 finished with value: 1.6617203320114358 and parameters: {'lr': 0.0201850200750051, 'embedding_dim': 79, 'hidden_dim': 384}. Best is trial 0 with value: 1.5618715546663524.\n"
          ]
        },
        {
          "output_type": "stream",
          "name": "stdout",
          "text": [
            "Epoch 5/5, Train Loss: 1.4823001452025997, Dev Loss: 1.6617203320114358\n"
          ]
        },
        {
          "output_type": "stream",
          "name": "stderr",
          "text": [
            "Epoch 1/5 - Training: 100%|██████████| 822/822 [00:05<00:00, 148.53it/s]\n"
          ]
        },
        {
          "output_type": "stream",
          "name": "stdout",
          "text": [
            "Epoch 1/5, Train Loss: 3.387214021961184, Dev Loss: 3.281549858815462\n"
          ]
        },
        {
          "output_type": "stream",
          "name": "stderr",
          "text": [
            "Epoch 2/5 - Training: 100%|██████████| 822/822 [00:06<00:00, 123.76it/s]\n"
          ]
        },
        {
          "output_type": "stream",
          "name": "stdout",
          "text": [
            "Epoch 2/5, Train Loss: 3.172389104998605, Dev Loss: 3.07825841024084\n"
          ]
        },
        {
          "output_type": "stream",
          "name": "stderr",
          "text": [
            "Epoch 3/5 - Training: 100%|██████████| 822/822 [00:05<00:00, 144.47it/s]\n"
          ]
        },
        {
          "output_type": "stream",
          "name": "stdout",
          "text": [
            "Epoch 3/5, Train Loss: 2.9960728938852204, Dev Loss: 2.9442426649112146\n"
          ]
        },
        {
          "output_type": "stream",
          "name": "stderr",
          "text": [
            "Epoch 4/5 - Training: 100%|██████████| 822/822 [00:06<00:00, 124.47it/s]\n"
          ]
        },
        {
          "output_type": "stream",
          "name": "stdout",
          "text": [
            "Epoch 4/5, Train Loss: 2.8861692647864348, Dev Loss: 2.8618146007500807\n"
          ]
        },
        {
          "output_type": "stream",
          "name": "stderr",
          "text": [
            "Epoch 5/5 - Training: 100%|██████████| 822/822 [00:05<00:00, 146.97it/s]\n",
            "[I 2025-03-02 21:34:19,686] Trial 14 finished with value: 2.803888242221573 and parameters: {'lr': 0.00032289716958646, 'embedding_dim': 48, 'hidden_dim': 498}. Best is trial 0 with value: 1.5618715546663524.\n"
          ]
        },
        {
          "output_type": "stream",
          "name": "stdout",
          "text": [
            "Epoch 5/5, Train Loss: 2.8148155165994835, Dev Loss: 2.803888242221573\n"
          ]
        },
        {
          "output_type": "stream",
          "name": "stderr",
          "text": [
            "Epoch 1/5 - Training: 100%|██████████| 822/822 [00:03<00:00, 220.11it/s]\n"
          ]
        },
        {
          "output_type": "stream",
          "name": "stdout",
          "text": [
            "Epoch 1/5, Train Loss: 2.260677302695829, Dev Loss: 2.3219284629358827\n"
          ]
        },
        {
          "output_type": "stream",
          "name": "stderr",
          "text": [
            "Epoch 2/5 - Training: 100%|██████████| 822/822 [00:02<00:00, 294.82it/s]\n"
          ]
        },
        {
          "output_type": "stream",
          "name": "stdout",
          "text": [
            "Epoch 2/5, Train Loss: 1.787566340136412, Dev Loss: 1.887722788505184\n"
          ]
        },
        {
          "output_type": "stream",
          "name": "stderr",
          "text": [
            "Epoch 3/5 - Training: 100%|██████████| 822/822 [00:02<00:00, 296.41it/s]\n"
          ]
        },
        {
          "output_type": "stream",
          "name": "stdout",
          "text": [
            "Epoch 3/5, Train Loss: 1.608176693936624, Dev Loss: 2.262692730403641\n"
          ]
        },
        {
          "output_type": "stream",
          "name": "stderr",
          "text": [
            "Epoch 4/5 - Training: 100%|██████████| 822/822 [00:02<00:00, 297.01it/s]\n"
          ]
        },
        {
          "output_type": "stream",
          "name": "stdout",
          "text": [
            "Epoch 4/5, Train Loss: 1.5021440454208068, Dev Loss: 1.891330960884835\n"
          ]
        },
        {
          "output_type": "stream",
          "name": "stderr",
          "text": [
            "Epoch 5/5 - Training: 100%|██████████| 822/822 [00:03<00:00, 215.19it/s]\n",
            "[I 2025-03-02 21:34:36,286] Trial 15 finished with value: 1.707576951934296 and parameters: {'lr': 0.04238111160044691, 'embedding_dim': 36, 'hidden_dim': 281}. Best is trial 0 with value: 1.5618715546663524.\n"
          ]
        },
        {
          "output_type": "stream",
          "name": "stdout",
          "text": [
            "Epoch 5/5, Train Loss: 1.427386725906038, Dev Loss: 1.707576951934296\n"
          ]
        },
        {
          "output_type": "stream",
          "name": "stderr",
          "text": [
            "Epoch 1/5 - Training: 100%|██████████| 822/822 [00:02<00:00, 324.34it/s]\n"
          ]
        },
        {
          "output_type": "stream",
          "name": "stdout",
          "text": [
            "Epoch 1/5, Train Loss: 2.9231232578737023, Dev Loss: 2.6373502467442487\n"
          ]
        },
        {
          "output_type": "stream",
          "name": "stderr",
          "text": [
            "Epoch 2/5 - Training: 100%|██████████| 822/822 [00:02<00:00, 326.15it/s]\n"
          ]
        },
        {
          "output_type": "stream",
          "name": "stdout",
          "text": [
            "Epoch 2/5, Train Loss: 2.4475747090186517, Dev Loss: 2.3478662470012037\n"
          ]
        },
        {
          "output_type": "stream",
          "name": "stderr",
          "text": [
            "Epoch 3/5 - Training: 100%|██████████| 822/822 [00:02<00:00, 329.11it/s]\n"
          ]
        },
        {
          "output_type": "stream",
          "name": "stdout",
          "text": [
            "Epoch 3/5, Train Loss: 2.2306788195368727, Dev Loss: 2.20667410822748\n"
          ]
        },
        {
          "output_type": "stream",
          "name": "stderr",
          "text": [
            "Epoch 4/5 - Training: 100%|██████████| 822/822 [00:03<00:00, 258.87it/s]\n"
          ]
        },
        {
          "output_type": "stream",
          "name": "stdout",
          "text": [
            "Epoch 4/5, Train Loss: 2.1135109156877747, Dev Loss: 2.1108611139278968\n"
          ]
        },
        {
          "output_type": "stream",
          "name": "stderr",
          "text": [
            "Epoch 5/5 - Training: 100%|██████████| 822/822 [00:02<00:00, 298.77it/s]\n",
            "[I 2025-03-02 21:34:50,494] Trial 16 finished with value: 2.0467126357902603 and parameters: {'lr': 0.004619005712730688, 'embedding_dim': 55, 'hidden_dim': 221}. Best is trial 0 with value: 1.5618715546663524.\n"
          ]
        },
        {
          "output_type": "stream",
          "name": "stdout",
          "text": [
            "Epoch 5/5, Train Loss: 2.026853194056926, Dev Loss: 2.0467126357902603\n"
          ]
        },
        {
          "output_type": "stream",
          "name": "stderr",
          "text": [
            "Epoch 1/5 - Training: 100%|██████████| 822/822 [00:03<00:00, 272.42it/s]\n"
          ]
        },
        {
          "output_type": "stream",
          "name": "stdout",
          "text": [
            "Epoch 1/5, Train Loss: 3.2689862410807553, Dev Loss: 3.085174055932795\n"
          ]
        },
        {
          "output_type": "stream",
          "name": "stderr",
          "text": [
            "Epoch 2/5 - Training: 100%|██████████| 822/822 [00:03<00:00, 269.28it/s]\n"
          ]
        },
        {
          "output_type": "stream",
          "name": "stdout",
          "text": [
            "Epoch 2/5, Train Loss: 2.9604838631158907, Dev Loss: 2.8922278996810173\n"
          ]
        },
        {
          "output_type": "stream",
          "name": "stderr",
          "text": [
            "Epoch 3/5 - Training: 100%|██████████| 822/822 [00:03<00:00, 207.38it/s]\n"
          ]
        },
        {
          "output_type": "stream",
          "name": "stdout",
          "text": [
            "Epoch 3/5, Train Loss: 2.8253136429473433, Dev Loss: 2.799463823003676\n"
          ]
        },
        {
          "output_type": "stream",
          "name": "stderr",
          "text": [
            "Epoch 4/5 - Training: 100%|██████████| 822/822 [00:03<00:00, 271.66it/s]\n"
          ]
        },
        {
          "output_type": "stream",
          "name": "stdout",
          "text": [
            "Epoch 4/5, Train Loss: 2.746186311517609, Dev Loss: 2.7346618569012984\n"
          ]
        },
        {
          "output_type": "stream",
          "name": "stderr",
          "text": [
            "Epoch 5/5 - Training: 100%|██████████| 822/822 [00:03<00:00, 272.25it/s]\n",
            "[I 2025-03-02 21:35:07,403] Trial 17 finished with value: 2.6805800303672123 and parameters: {'lr': 0.0007227011362868613, 'embedding_dim': 34, 'hidden_dim': 316}. Best is trial 0 with value: 1.5618715546663524.\n"
          ]
        },
        {
          "output_type": "stream",
          "name": "stdout",
          "text": [
            "Epoch 5/5, Train Loss: 2.6853930349767645, Dev Loss: 2.6805800303672123\n"
          ]
        },
        {
          "output_type": "stream",
          "name": "stderr",
          "text": [
            "Epoch 1/5 - Training: 100%|██████████| 822/822 [00:03<00:00, 231.97it/s]\n"
          ]
        },
        {
          "output_type": "stream",
          "name": "stdout",
          "text": [
            "Epoch 1/5, Train Loss: 2.437119222615467, Dev Loss: 2.2826657873912923\n"
          ]
        },
        {
          "output_type": "stream",
          "name": "stderr",
          "text": [
            "Epoch 2/5 - Training: 100%|██████████| 822/822 [00:04<00:00, 176.78it/s]\n"
          ]
        },
        {
          "output_type": "stream",
          "name": "stdout",
          "text": [
            "Epoch 2/5, Train Loss: 2.023889462733211, Dev Loss: 2.1389893304954453\n"
          ]
        },
        {
          "output_type": "stream",
          "name": "stderr",
          "text": [
            "Epoch 3/5 - Training: 100%|██████████| 822/822 [00:03<00:00, 229.36it/s]\n"
          ]
        },
        {
          "output_type": "stream",
          "name": "stdout",
          "text": [
            "Epoch 3/5, Train Loss: 1.830460933075624, Dev Loss: 1.8402288990113342\n"
          ]
        },
        {
          "output_type": "stream",
          "name": "stderr",
          "text": [
            "Epoch 4/5 - Training: 100%|██████████| 822/822 [00:03<00:00, 220.24it/s]\n"
          ]
        },
        {
          "output_type": "stream",
          "name": "stdout",
          "text": [
            "Epoch 4/5, Train Loss: 1.705216166311807, Dev Loss: 1.8407239994956452\n"
          ]
        },
        {
          "output_type": "stream",
          "name": "stderr",
          "text": [
            "Epoch 5/5 - Training: 100%|██████████| 822/822 [00:04<00:00, 173.90it/s]\n",
            "[I 2025-03-02 21:35:28,601] Trial 18 finished with value: 1.9671449568665142 and parameters: {'lr': 0.025733106016948205, 'embedding_dim': 12, 'hidden_dim': 411}. Best is trial 0 with value: 1.5618715546663524.\n"
          ]
        },
        {
          "output_type": "stream",
          "name": "stdout",
          "text": [
            "Epoch 5/5, Train Loss: 1.6198468268497728, Dev Loss: 1.9671449568665142\n"
          ]
        },
        {
          "output_type": "stream",
          "name": "stderr",
          "text": [
            "Epoch 1/5 - Training: 100%|██████████| 822/822 [00:02<00:00, 337.74it/s]\n"
          ]
        },
        {
          "output_type": "stream",
          "name": "stdout",
          "text": [
            "Epoch 1/5, Train Loss: 2.706809607590492, Dev Loss: 2.363401338892076\n"
          ]
        },
        {
          "output_type": "stream",
          "name": "stderr",
          "text": [
            "Epoch 2/5 - Training: 100%|██████████| 822/822 [00:02<00:00, 334.35it/s]\n"
          ]
        },
        {
          "output_type": "stream",
          "name": "stdout",
          "text": [
            "Epoch 2/5, Train Loss: 2.1884985231135015, Dev Loss: 2.1287910567903983\n"
          ]
        },
        {
          "output_type": "stream",
          "name": "stderr",
          "text": [
            "Epoch 3/5 - Training: 100%|██████████| 822/822 [00:02<00:00, 337.18it/s]\n"
          ]
        },
        {
          "output_type": "stream",
          "name": "stdout",
          "text": [
            "Epoch 3/5, Train Loss: 2.009504006581875, Dev Loss: 2.0131153608988788\n"
          ]
        },
        {
          "output_type": "stream",
          "name": "stderr",
          "text": [
            "Epoch 4/5 - Training: 100%|██████████| 822/822 [00:03<00:00, 244.21it/s]\n"
          ]
        },
        {
          "output_type": "stream",
          "name": "stdout",
          "text": [
            "Epoch 4/5, Train Loss: 1.886247717841118, Dev Loss: 1.9037443017496647\n"
          ]
        },
        {
          "output_type": "stream",
          "name": "stderr",
          "text": [
            "Epoch 5/5 - Training: 100%|██████████| 822/822 [00:02<00:00, 333.86it/s]\n",
            "[I 2025-03-02 21:35:42,404] Trial 19 finished with value: 1.853075894337256 and parameters: {'lr': 0.009603602084530379, 'embedding_dim': 74, 'hidden_dim': 181}. Best is trial 0 with value: 1.5618715546663524.\n"
          ]
        },
        {
          "output_type": "stream",
          "name": "stdout",
          "text": [
            "Epoch 5/5, Train Loss: 1.7920261502555976, Dev Loss: 1.853075894337256\n",
            "Best hyperparameters: {'lr': 0.07480832009996836, 'embedding_dim': 49, 'hidden_dim': 267}\n",
            "Best validation loss: 1.5618715546663524\n"
          ]
        },
        {
          "output_type": "stream",
          "name": "stderr",
          "text": [
            "Epoch 1/20 - Training: 100%|██████████| 822/822 [00:02<00:00, 274.25it/s]\n"
          ]
        },
        {
          "output_type": "stream",
          "name": "stdout",
          "text": [
            "Epoch 1/20, Train Loss: 2.093323777336854, Dev Loss: 2.075114725862892\n"
          ]
        },
        {
          "output_type": "stream",
          "name": "stderr",
          "text": [
            "Epoch 2/20 - Training: 100%|██████████| 822/822 [00:03<00:00, 272.43it/s]\n"
          ]
        },
        {
          "output_type": "stream",
          "name": "stdout",
          "text": [
            "Epoch 2/20, Train Loss: 1.6573671409973554, Dev Loss: 2.0149895427296465\n"
          ]
        },
        {
          "output_type": "stream",
          "name": "stderr",
          "text": [
            "Epoch 3/20 - Training: 100%|██████████| 822/822 [00:03<00:00, 209.65it/s]\n"
          ]
        },
        {
          "output_type": "stream",
          "name": "stdout",
          "text": [
            "Epoch 3/20, Train Loss: 1.4988183060121651, Dev Loss: 1.889593063627632\n"
          ]
        },
        {
          "output_type": "stream",
          "name": "stderr",
          "text": [
            "Epoch 4/20 - Training: 100%|██████████| 822/822 [00:02<00:00, 285.53it/s]\n"
          ]
        },
        {
          "output_type": "stream",
          "name": "stdout",
          "text": [
            "Epoch 4/20, Train Loss: 1.407047893951699, Dev Loss: 1.5707021529234728\n"
          ]
        },
        {
          "output_type": "stream",
          "name": "stderr",
          "text": [
            "Epoch 5/20 - Training: 100%|██████████| 822/822 [00:03<00:00, 249.25it/s]\n"
          ]
        },
        {
          "output_type": "stream",
          "name": "stdout",
          "text": [
            "Epoch 5/20, Train Loss: 1.3353457526278902, Dev Loss: 1.7619244508372927\n"
          ]
        },
        {
          "output_type": "stream",
          "name": "stderr",
          "text": [
            "Epoch 6/20 - Training: 100%|██████████| 822/822 [00:04<00:00, 189.75it/s]\n"
          ]
        },
        {
          "output_type": "stream",
          "name": "stdout",
          "text": [
            "Epoch 6/20, Train Loss: 1.283420046605623, Dev Loss: 1.54302341151006\n"
          ]
        },
        {
          "output_type": "stream",
          "name": "stderr",
          "text": [
            "Epoch 7/20 - Training: 100%|██████████| 822/822 [00:04<00:00, 187.60it/s]\n"
          ]
        },
        {
          "output_type": "stream",
          "name": "stdout",
          "text": [
            "Epoch 7/20, Train Loss: 1.2373890657784585, Dev Loss: 1.617103861373605\n"
          ]
        },
        {
          "output_type": "stream",
          "name": "stderr",
          "text": [
            "Epoch 8/20 - Training: 100%|██████████| 822/822 [00:02<00:00, 276.87it/s]\n"
          ]
        },
        {
          "output_type": "stream",
          "name": "stdout",
          "text": [
            "Epoch 8/20, Train Loss: 1.205488546341295, Dev Loss: 1.8704127750350434\n"
          ]
        },
        {
          "output_type": "stream",
          "name": "stderr",
          "text": [
            "Epoch 9/20 - Training: 100%|██████████| 822/822 [00:02<00:00, 274.64it/s]\n"
          ]
        },
        {
          "output_type": "stream",
          "name": "stdout",
          "text": [
            "Epoch 9/20, Train Loss: 1.171537299878406, Dev Loss: 1.6938929951306685\n"
          ]
        },
        {
          "output_type": "stream",
          "name": "stderr",
          "text": [
            "Epoch 10/20 - Training: 100%|██████████| 822/822 [00:03<00:00, 236.80it/s]\n"
          ]
        },
        {
          "output_type": "stream",
          "name": "stdout",
          "text": [
            "Epoch 10/20, Train Loss: 1.139699783130864, Dev Loss: 1.5346533638759725\n"
          ]
        },
        {
          "output_type": "stream",
          "name": "stderr",
          "text": [
            "Epoch 11/20 - Training: 100%|██████████| 822/822 [00:03<00:00, 239.63it/s]\n"
          ]
        },
        {
          "output_type": "stream",
          "name": "stdout",
          "text": [
            "Epoch 11/20, Train Loss: 1.1088913337230102, Dev Loss: 1.537800443982615\n"
          ]
        },
        {
          "output_type": "stream",
          "name": "stderr",
          "text": [
            "Epoch 12/20 - Training: 100%|██████████| 822/822 [00:02<00:00, 278.81it/s]\n"
          ]
        },
        {
          "output_type": "stream",
          "name": "stdout",
          "text": [
            "Epoch 12/20, Train Loss: 1.0859200818477757, Dev Loss: 1.5940813896725479\n"
          ]
        },
        {
          "output_type": "stream",
          "name": "stderr",
          "text": [
            "Epoch 13/20 - Training: 100%|██████████| 822/822 [00:02<00:00, 280.59it/s]\n"
          ]
        },
        {
          "output_type": "stream",
          "name": "stdout",
          "text": [
            "Epoch 13/20, Train Loss: 1.0644246001893296, Dev Loss: 1.557969584048373\n"
          ]
        },
        {
          "output_type": "stream",
          "name": "stderr",
          "text": [
            "Epoch 14/20 - Training: 100%|██████████| 822/822 [00:03<00:00, 217.31it/s]\n"
          ]
        },
        {
          "output_type": "stream",
          "name": "stdout",
          "text": [
            "Epoch 14/20, Train Loss: 1.0458994872161071, Dev Loss: 1.600873693679143\n"
          ]
        },
        {
          "output_type": "stream",
          "name": "stderr",
          "text": [
            "Epoch 15/20 - Training: 100%|██████████| 822/822 [00:03<00:00, 260.33it/s]\n"
          ]
        },
        {
          "output_type": "stream",
          "name": "stdout",
          "text": [
            "Epoch 15/20, Train Loss: 1.0310527888600263, Dev Loss: 1.5963089089949154\n"
          ]
        },
        {
          "output_type": "stream",
          "name": "stderr",
          "text": [
            "Epoch 16/20 - Training: 100%|██████████| 822/822 [00:02<00:00, 282.45it/s]\n"
          ]
        },
        {
          "output_type": "stream",
          "name": "stdout",
          "text": [
            "Epoch 16/20, Train Loss: 1.0169305846711434, Dev Loss: 1.5995601427207873\n"
          ]
        },
        {
          "output_type": "stream",
          "name": "stderr",
          "text": [
            "Epoch 17/20 - Training: 100%|██████████| 822/822 [00:02<00:00, 275.55it/s]\n"
          ]
        },
        {
          "output_type": "stream",
          "name": "stdout",
          "text": [
            "Epoch 17/20, Train Loss: 1.0026315042971115, Dev Loss: 1.5885940986929588\n"
          ]
        },
        {
          "output_type": "stream",
          "name": "stderr",
          "text": [
            "Epoch 18/20 - Training: 100%|██████████| 822/822 [00:03<00:00, 208.67it/s]\n"
          ]
        },
        {
          "output_type": "stream",
          "name": "stdout",
          "text": [
            "Epoch 18/20, Train Loss: 0.9933621335203631, Dev Loss: 1.7333105929846901\n"
          ]
        },
        {
          "output_type": "stream",
          "name": "stderr",
          "text": [
            "Epoch 19/20 - Training: 100%|██████████| 822/822 [00:02<00:00, 278.40it/s]\n"
          ]
        },
        {
          "output_type": "stream",
          "name": "stdout",
          "text": [
            "Epoch 19/20, Train Loss: 0.9869080610808955, Dev Loss: 1.6103209922614607\n"
          ]
        },
        {
          "output_type": "stream",
          "name": "stderr",
          "text": [
            "Epoch 20/20 - Training: 100%|██████████| 822/822 [00:02<00:00, 276.15it/s]\n"
          ]
        },
        {
          "output_type": "stream",
          "name": "stdout",
          "text": [
            "Epoch 20/20, Train Loss: 0.9727726521065635, Dev Loss: 1.6000925279358058\n"
          ]
        }
      ]
    },
    {
      "cell_type": "code",
      "source": [
        "import matplotlib.pyplot as plt\n",
        "import seaborn as sns\n",
        "\n",
        "def visualise_losses(train_losses, dev_losses, language):\n",
        "  epochs = range(1, len(train_losses) + 1)\n",
        "  plt.figure(figsize=(10, 6))  # Adjust figure size for better visualization\n",
        "  sns.set_style(\"whitegrid\")  # Set a visually appealing style with a grid\n",
        "\n",
        "  sns.lineplot(x=epochs, y=train_losses, label=\"Training Loss\")\n",
        "  sns.lineplot(x=epochs, y=dev_losses, label=\"Dev Loss\")\n",
        "\n",
        "\n",
        "  plt.xlabel(\"Epochs\", fontsize=14)\n",
        "  plt.ylabel(\"Loss (CrossEntropy)\", fontsize=14)\n",
        "  plt.title(f\"Training and Dev Losses for {language} language\", fontsize=16)\n",
        "  plt.legend(fontsize=12)\n",
        "  plt.grid(True, linestyle=\"--\", alpha=0.7) # Customize grid appearance\n",
        "  plt.xticks(fontsize=12)\n",
        "  plt.yticks(fontsize=12)\n",
        "  sns.despine(left=True, bottom=True) # Improve aesthetics by removing top/right borders\n",
        "\n",
        "  plt.show()\n"
      ],
      "metadata": {
        "id": "5dcOMzZutpOf"
      },
      "execution_count": 12,
      "outputs": []
    },
    {
      "cell_type": "code",
      "source": [
        "visualise_losses(it_train_losses, it_dev_losses, \"Italian\")"
      ],
      "metadata": {
        "id": "ccjQiVXS_yST",
        "colab": {
          "base_uri": "https://localhost:8080/",
          "height": 575
        },
        "outputId": "b7571279-863e-4dc2-de2e-355465742f28"
      },
      "execution_count": 13,
      "outputs": [
        {
          "output_type": "display_data",
          "data": {
            "text/plain": [
              "<Figure size 1000x600 with 1 Axes>"
            ],
            "image/png": "[encoded data removed]"
          },
          "metadata": {}
        }
      ]
    },
    {
      "cell_type": "markdown",
      "source": [
        "## Training and Evaluation\n",
        "\n",
        "The model is trained using the following:\n",
        "\n",
        "*   **CrossEntropyLoss:**  Calculates the loss between predicted and actual characters.\n",
        "*   **SGD Optimizer:**  Updates model parameters based on the calculated loss.\n",
        "*   **Training Loop:** Iterates over the training data, calculating loss, backpropagating gradients, and updating the model.\n",
        "\n",
        "The model's performance is evaluated on the development set to monitor its generalization. Training and validation losses are plotted to visualize training progress.\n",
        "\n"
      ],
      "metadata": {
        "id": "3iRR71E2jmuT"
      }
    },
    {
      "cell_type": "code",
      "source": [
        "def calculate_perplexity(model, dataset):\n",
        "    \"\"\"Calculates the perplexity of the model on the given dataset.\"\"\"\n",
        "    model.eval()\n",
        "    total_loss = 0\n",
        "    with torch.no_grad():\n",
        "        for X, y in dataset:\n",
        "            X, y = X.to(device), y.to(device)\n",
        "            output = model(X)\n",
        "            loss = F.cross_entropy(output, y) # Use cross_entropy directly for perplexity\n",
        "            total_loss += loss.item() * len(y)  # Scale loss by batch size\n",
        "    avg_loss = total_loss / len(dataset.dataset)\n",
        "    perplexity = torch.exp(torch.tensor(avg_loss)).item()\n",
        "    return perplexity\n",
        "\n",
        "def calculate_character_accuracy(model, dataset):\n",
        "    \"\"\"Calculates character-level accuracy.\"\"\"\n",
        "    model.eval()\n",
        "    correct_predictions = 0\n",
        "    total_predictions = 0\n",
        "    with torch.no_grad():\n",
        "        for X, y in dataset:\n",
        "            X, y = X.to(device), y.to(device)\n",
        "            output = model(X)\n",
        "            predictions = torch.argmax(output, dim=1)\n",
        "            correct_predictions += (predictions == y).sum().item()\n",
        "            total_predictions += len(y)\n",
        "    accuracy = correct_predictions / total_predictions\n",
        "    return accuracy\n",
        "\n",
        "\n",
        "# Example usage:\n",
        "perplexity = calculate_perplexity(italian_model, italian_validation_dataset)\n",
        "accuracy = calculate_character_accuracy(italian_model, italian_validation_dataset)\n",
        "\n",
        "print(f\"Perplexity on validation set: {perplexity}\")\n",
        "print(f\"Character Accuracy on validation set: {accuracy}\")\n",
        "\n",
        "expected_names = italian_names_tokenizer.words[:15]\n",
        "generated_names = []\n",
        "\n",
        "for exp_name in expected_names:\n",
        "  generated_names.append(italian_model.generate_names_starting_with(exp_name[:4], tokenizer=italian_names_tokenizer, num_names=1, max_len=len(exp_name))[-1])\n",
        "\n",
        "# Compare the generated names with the expected names (example comparison)\n",
        "print(\"\\nComparison:\")\n",
        "for i in range(10):\n",
        "    print(f\"Generated: {generated_names[i]}, Fully taken name (example): {expected_names[i]}\")\n",
        "\n"
      ],
      "metadata": {
        "id": "yHuQkX2GykXf",
        "colab": {
          "base_uri": "https://localhost:8080/"
        },
        "outputId": "fdb05bc1-24d7-4229-a52f-7ebcbbab8853"
      },
      "execution_count": 14,
      "outputs": [
        {
          "output_type": "stream",
          "name": "stdout",
          "text": [
            "Perplexity on validation set: 4.72767448425293\n",
            "Character Accuracy on validation set: 0.5397260273972603\n",
            "\n",
            "Comparison:\n",
            "Generated: ugo rosa, Fully taken name (example): ugo luigi\n",
            "Generated: laure harsco, Fully taken name (example): laura melania\n",
            "Generated: viatantonio, Fully taken name (example): viatantonio\n",
            "Generated: antonella, Fully taken name (example): antonietta rosetta\n",
            "Generated: emidio, Fully taken name (example): emidio\n",
            "Generated: amata, Fully taken name (example): amata\n",
            "Generated: massimiliana, Fully taken name (example): massimo gaetano\n",
            "Generated: maria, Fully taken name (example): maria\n",
            "Generated: sergio ivo, Fully taken name (example): sergio aristide\n",
            "Generated: mario, Fully taken name (example): mario virginio\n"
          ]
        }
      ]
    },
    {
      "cell_type": "markdown",
      "source": [
        "#Specific task 2A-I: Multiple models; multiple languages\n",
        "\n",
        "Pick a second language. Build a second character-level model for this language and assess its quality. Then assess your first model on the task of generating names for the second language, and vice-versa. How good is the transfer from the first model to the second? How about the other way around? Is this what you expected? Why (not)?\n",
        "\n",
        "Second language: Spanish"
      ],
      "metadata": {
        "id": "D2ghDugZ-f0y"
      }
    },
    {
      "cell_type": "code",
      "source": [
        "import optuna\n",
        "\n",
        "spanish_names_tokenizer = NlpLab2WordsTokenizer(spanish_words)\n",
        "spanish_train_dataset, spanish_dev_dataset, spanish_validation_dataset = test_train_validation_split(spanish_names_tokenizer)\n",
        "\n",
        "def fit_objective(trial):\n",
        "    # Define the hyperparameters to be tuned\n",
        "    lr = trial.suggest_float(\"lr\", 1e-5, 1e-1, log=True)\n",
        "    embedding_dim = trial.suggest_int(\"embedding_dim\", 10, 200)\n",
        "    hidden_dim = trial.suggest_int(\"hidden_dim\", 100, 500)\n",
        "\n",
        "    # Create a new model instance with the suggested hyperparameters\n",
        "    model = FeedForwardNet(spanish_names_tokenizer.itos_len(), embedding_dim=embedding_dim, hidden_dim=hidden_dim).to(device)\n",
        "\n",
        "    # Train the model\n",
        "    train_losses, dev_losses = train_model(model, spanish_train_dataset, spanish_dev_dataset, epochs=5, lr=lr) # Here I reduced epochs for faster tuning\n",
        "\n",
        "    # Return the validation loss as the objective value to minimize\n",
        "    return dev_losses[-1]\n",
        "\n",
        "study = optuna.create_study(direction=\"minimize\")\n",
        "study.optimize(fit_objective, n_trials=20) # Adjust n_trials as needed\n",
        "\n",
        "# Print the best hyperparameters and the corresponding validation loss\n",
        "print(\"Best hyperparameters:\", study.best_params)\n",
        "print(\"Best validation loss:\", study.best_value)\n",
        "\n",
        "# Train the final model with the best hyperparameters\n",
        "spanish_model = FeedForwardNet(spanish_names_tokenizer.itos_len(), embedding_dim=study.best_params['embedding_dim'], hidden_dim=study.best_params['hidden_dim']).to(device)\n",
        "\n",
        "sp_train_losses, sp_dev_losses = train_model(spanish_model, spanish_train_dataset, spanish_dev_dataset, epochs=10, lr=study.best_params['lr'])\n"
      ],
      "metadata": {
        "id": "ifBEy0w4-hSJ",
        "colab": {
          "base_uri": "https://localhost:8080/"
        },
        "outputId": "476b583e-e54d-435b-cb56-7d0694668960"
      },
      "execution_count": 15,
      "outputs": [
        {
          "output_type": "stream",
          "name": "stderr",
          "text": [
            "[I 2025-03-02 21:36:55,023] A new study created in memory with name: no-name-be267edd-7de0-40e0-95ef-e69104048182\n"
          ]
        },
        {
          "output_type": "stream",
          "name": "stdout",
          "text": [
            "torch.Size([585127, 5]) torch.Size([585127])\n",
            "Train dataset size: 39472\n",
            "Dev dataset size: 4934\n",
            "Validation dataset size: 4934\n"
          ]
        },
        {
          "output_type": "stream",
          "name": "stderr",
          "text": [
            "Epoch 1/5 - Training: 100%|██████████| 1234/1234 [00:10<00:00, 115.19it/s]\n"
          ]
        },
        {
          "output_type": "stream",
          "name": "stdout",
          "text": [
            "Epoch 1/5, Train Loss: 3.379393334520114, Dev Loss: 3.3453902413768155\n"
          ]
        },
        {
          "output_type": "stream",
          "name": "stderr",
          "text": [
            "Epoch 2/5 - Training: 100%|██████████| 1234/1234 [00:10<00:00, 116.43it/s]\n"
          ]
        },
        {
          "output_type": "stream",
          "name": "stdout",
          "text": [
            "Epoch 2/5, Train Loss: 3.309264224004514, Dev Loss: 3.277007581341651\n"
          ]
        },
        {
          "output_type": "stream",
          "name": "stderr",
          "text": [
            "Epoch 3/5 - Training: 100%|██████████| 1234/1234 [00:10<00:00, 117.06it/s]\n"
          ]
        },
        {
          "output_type": "stream",
          "name": "stdout",
          "text": [
            "Epoch 3/5, Train Loss: 3.2398651676007955, Dev Loss: 3.207345868695167\n"
          ]
        },
        {
          "output_type": "stream",
          "name": "stderr",
          "text": [
            "Epoch 4/5 - Training: 100%|██████████| 1234/1234 [00:10<00:00, 116.43it/s]\n"
          ]
        },
        {
          "output_type": "stream",
          "name": "stdout",
          "text": [
            "Epoch 4/5, Train Loss: 3.169348554441183, Dev Loss: 3.1377620527821204\n"
          ]
        },
        {
          "output_type": "stream",
          "name": "stderr",
          "text": [
            "Epoch 5/5 - Training: 100%|██████████| 1234/1234 [00:10<00:00, 117.92it/s]\n",
            "[I 2025-03-02 21:37:49,969] Trial 0 finished with value: 3.073685504544166 and parameters: {'lr': 9.458779288786431e-05, 'embedding_dim': 170, 'hidden_dim': 347}. Best is trial 0 with value: 3.073685504544166.\n"
          ]
        },
        {
          "output_type": "stream",
          "name": "stdout",
          "text": [
            "Epoch 5/5, Train Loss: 3.1016361937530617, Dev Loss: 3.073685504544166\n"
          ]
        },
        {
          "output_type": "stream",
          "name": "stderr",
          "text": [
            "Epoch 1/5 - Training: 100%|██████████| 1234/1234 [00:16<00:00, 76.77it/s]\n"
          ]
        },
        {
          "output_type": "stream",
          "name": "stdout",
          "text": [
            "Epoch 1/5, Train Loss: 2.9471172774436987, Dev Loss: 2.7181363859484273\n"
          ]
        },
        {
          "output_type": "stream",
          "name": "stderr",
          "text": [
            "Epoch 2/5 - Training: 100%|██████████| 1234/1234 [00:16<00:00, 76.72it/s]\n"
          ]
        },
        {
          "output_type": "stream",
          "name": "stdout",
          "text": [
            "Epoch 2/5, Train Loss: 2.6133342825806123, Dev Loss: 2.506489724497641\n"
          ]
        },
        {
          "output_type": "stream",
          "name": "stderr",
          "text": [
            "Epoch 3/5 - Training: 100%|██████████| 1234/1234 [00:17<00:00, 72.29it/s]\n"
          ]
        },
        {
          "output_type": "stream",
          "name": "stdout",
          "text": [
            "Epoch 3/5, Train Loss: 2.4489004871833653, Dev Loss: 2.3729927209115798\n"
          ]
        },
        {
          "output_type": "stream",
          "name": "stderr",
          "text": [
            "Epoch 4/5 - Training: 100%|██████████| 1234/1234 [00:16<00:00, 75.97it/s]\n"
          ]
        },
        {
          "output_type": "stream",
          "name": "stdout",
          "text": [
            "Epoch 4/5, Train Loss: 2.339190494685737, Dev Loss: 2.2794987609309536\n"
          ]
        },
        {
          "output_type": "stream",
          "name": "stderr",
          "text": [
            "Epoch 5/5 - Training: 100%|██████████| 1234/1234 [00:16<00:00, 74.87it/s]\n",
            "[I 2025-03-02 21:39:14,895] Trial 1 finished with value: 2.209845286030923 and parameters: {'lr': 0.0015256415579455844, 'embedding_dim': 199, 'hidden_dim': 457}. Best is trial 1 with value: 2.209845286030923.\n"
          ]
        },
        {
          "output_type": "stream",
          "name": "stdout",
          "text": [
            "Epoch 5/5, Train Loss: 2.258051757294703, Dev Loss: 2.209845286030923\n"
          ]
        },
        {
          "output_type": "stream",
          "name": "stderr",
          "text": [
            "Epoch 1/5 - Training: 100%|██████████| 1234/1234 [00:04<00:00, 302.48it/s]\n"
          ]
        },
        {
          "output_type": "stream",
          "name": "stdout",
          "text": [
            "Epoch 1/5, Train Loss: 3.3379547972733237, Dev Loss: 3.2940107345581056\n"
          ]
        },
        {
          "output_type": "stream",
          "name": "stderr",
          "text": [
            "Epoch 2/5 - Training: 100%|██████████| 1234/1234 [00:03<00:00, 389.14it/s]\n"
          ]
        },
        {
          "output_type": "stream",
          "name": "stdout",
          "text": [
            "Epoch 2/5, Train Loss: 3.2498152068600277, Dev Loss: 3.205490929080594\n"
          ]
        },
        {
          "output_type": "stream",
          "name": "stderr",
          "text": [
            "Epoch 3/5 - Training: 100%|██████████| 1234/1234 [00:03<00:00, 383.75it/s]\n"
          ]
        },
        {
          "output_type": "stream",
          "name": "stdout",
          "text": [
            "Epoch 3/5, Train Loss: 3.1615211003410177, Dev Loss: 3.1203037077380764\n"
          ]
        },
        {
          "output_type": "stream",
          "name": "stderr",
          "text": [
            "Epoch 4/5 - Training: 100%|██████████| 1234/1234 [00:03<00:00, 336.53it/s]\n"
          ]
        },
        {
          "output_type": "stream",
          "name": "stdout",
          "text": [
            "Epoch 4/5, Train Loss: 3.08289990915858, Dev Loss: 3.049348218979374\n"
          ]
        },
        {
          "output_type": "stream",
          "name": "stderr",
          "text": [
            "Epoch 5/5 - Training: 100%|██████████| 1234/1234 [00:03<00:00, 351.04it/s]\n",
            "[I 2025-03-02 21:39:33,445] Trial 2 finished with value: 2.991861311081917 and parameters: {'lr': 0.0001987796038101329, 'embedding_dim': 52, 'hidden_dim': 175}. Best is trial 1 with value: 2.209845286030923.\n"
          ]
        },
        {
          "output_type": "stream",
          "name": "stdout",
          "text": [
            "Epoch 5/5, Train Loss: 3.019277346385356, Dev Loss: 2.991861311081917\n"
          ]
        },
        {
          "output_type": "stream",
          "name": "stderr",
          "text": [
            "Epoch 1/5 - Training: 100%|██████████| 1234/1234 [00:12<00:00, 101.46it/s]\n"
          ]
        },
        {
          "output_type": "stream",
          "name": "stdout",
          "text": [
            "Epoch 1/5, Train Loss: 3.0592285305792934, Dev Loss: 2.8571919733478177\n"
          ]
        },
        {
          "output_type": "stream",
          "name": "stderr",
          "text": [
            "Epoch 2/5 - Training: 100%|██████████| 1234/1234 [00:12<00:00, 100.90it/s]\n"
          ]
        },
        {
          "output_type": "stream",
          "name": "stdout",
          "text": [
            "Epoch 2/5, Train Loss: 2.7773139770452167, Dev Loss: 2.70293258390119\n"
          ]
        },
        {
          "output_type": "stream",
          "name": "stderr",
          "text": [
            "Epoch 3/5 - Training: 100%|██████████| 1234/1234 [00:12<00:00, 99.09it/s] \n"
          ]
        },
        {
          "output_type": "stream",
          "name": "stdout",
          "text": [
            "Epoch 3/5, Train Loss: 2.647604152487781, Dev Loss: 2.5843734771974627\n"
          ]
        },
        {
          "output_type": "stream",
          "name": "stderr",
          "text": [
            "Epoch 4/5 - Training: 100%|██████████| 1234/1234 [00:12<00:00, 101.28it/s]\n"
          ]
        },
        {
          "output_type": "stream",
          "name": "stdout",
          "text": [
            "Epoch 4/5, Train Loss: 2.5449763975035236, Dev Loss: 2.491059567851405\n"
          ]
        },
        {
          "output_type": "stream",
          "name": "stderr",
          "text": [
            "Epoch 5/5 - Training: 100%|██████████| 1234/1234 [00:12<00:00, 100.79it/s]\n",
            "[I 2025-03-02 21:40:37,024] Trial 3 finished with value: 2.420071358065451 and parameters: {'lr': 0.0009677201435747786, 'embedding_dim': 101, 'hidden_dim': 489}. Best is trial 1 with value: 2.209845286030923.\n"
          ]
        },
        {
          "output_type": "stream",
          "name": "stdout",
          "text": [
            "Epoch 5/5, Train Loss: 2.466032346894714, Dev Loss: 2.420071358065451\n"
          ]
        },
        {
          "output_type": "stream",
          "name": "stderr",
          "text": [
            "Epoch 1/5 - Training: 100%|██████████| 1234/1234 [00:05<00:00, 216.18it/s]\n"
          ]
        },
        {
          "output_type": "stream",
          "name": "stdout",
          "text": [
            "Epoch 1/5, Train Loss: 3.315234430025617, Dev Loss: 3.201306512278895\n"
          ]
        },
        {
          "output_type": "stream",
          "name": "stderr",
          "text": [
            "Epoch 2/5 - Training: 100%|██████████| 1234/1234 [00:06<00:00, 183.85it/s]\n"
          ]
        },
        {
          "output_type": "stream",
          "name": "stdout",
          "text": [
            "Epoch 2/5, Train Loss: 3.089528298068858, Dev Loss: 2.9909473803735547\n"
          ]
        },
        {
          "output_type": "stream",
          "name": "stderr",
          "text": [
            "Epoch 3/5 - Training: 100%|██████████| 1234/1234 [00:05<00:00, 216.31it/s]\n"
          ]
        },
        {
          "output_type": "stream",
          "name": "stdout",
          "text": [
            "Epoch 3/5, Train Loss: 2.9285421469996002, Dev Loss: 2.869049395284345\n"
          ]
        },
        {
          "output_type": "stream",
          "name": "stderr",
          "text": [
            "Epoch 4/5 - Training: 100%|██████████| 1234/1234 [00:06<00:00, 184.93it/s]\n"
          ]
        },
        {
          "output_type": "stream",
          "name": "stdout",
          "text": [
            "Epoch 4/5, Train Loss: 2.8320591897979934, Dev Loss: 2.7900361522551504\n"
          ]
        },
        {
          "output_type": "stream",
          "name": "stderr",
          "text": [
            "Epoch 5/5 - Training: 100%|██████████| 1234/1234 [00:05<00:00, 213.37it/s]\n",
            "[I 2025-03-02 21:41:08,898] Trial 4 finished with value: 2.729323270243983 and parameters: {'lr': 0.00043772339842274277, 'embedding_dim': 159, 'hidden_dim': 224}. Best is trial 1 with value: 2.209845286030923.\n"
          ]
        },
        {
          "output_type": "stream",
          "name": "stdout",
          "text": [
            "Epoch 5/5, Train Loss: 2.765111817146623, Dev Loss: 2.729323270243983\n"
          ]
        },
        {
          "output_type": "stream",
          "name": "stderr",
          "text": [
            "Epoch 1/5 - Training: 100%|██████████| 1234/1234 [00:04<00:00, 287.80it/s]\n"
          ]
        },
        {
          "output_type": "stream",
          "name": "stdout",
          "text": [
            "Epoch 1/5, Train Loss: 2.6639905458910924, Dev Loss: 2.4066146450657997\n"
          ]
        },
        {
          "output_type": "stream",
          "name": "stderr",
          "text": [
            "Epoch 2/5 - Training: 100%|██████████| 1234/1234 [00:03<00:00, 365.42it/s]\n"
          ]
        },
        {
          "output_type": "stream",
          "name": "stdout",
          "text": [
            "Epoch 2/5, Train Loss: 2.3178659490093807, Dev Loss: 2.223308833952873\n"
          ]
        },
        {
          "output_type": "stream",
          "name": "stderr",
          "text": [
            "Epoch 3/5 - Training: 100%|██████████| 1234/1234 [00:03<00:00, 362.63it/s]\n"
          ]
        },
        {
          "output_type": "stream",
          "name": "stdout",
          "text": [
            "Epoch 3/5, Train Loss: 2.1724913686368996, Dev Loss: 2.107360170733544\n"
          ]
        },
        {
          "output_type": "stream",
          "name": "stderr",
          "text": [
            "Epoch 4/5 - Training: 100%|██████████| 1234/1234 [00:03<00:00, 314.50it/s]\n"
          ]
        },
        {
          "output_type": "stream",
          "name": "stdout",
          "text": [
            "Epoch 4/5, Train Loss: 2.071534693917347, Dev Loss: 2.012995825275298\n"
          ]
        },
        {
          "output_type": "stream",
          "name": "stderr",
          "text": [
            "Epoch 5/5 - Training: 100%|██████████| 1234/1234 [00:03<00:00, 335.63it/s]\n",
            "[I 2025-03-02 21:41:28,539] Trial 5 finished with value: 1.9497540858484084 and parameters: {'lr': 0.010606943957057108, 'embedding_dim': 23, 'hidden_dim': 243}. Best is trial 5 with value: 1.9497540858484084.\n"
          ]
        },
        {
          "output_type": "stream",
          "name": "stdout",
          "text": [
            "Epoch 5/5, Train Loss: 1.9894800597690105, Dev Loss: 1.9497540858484084\n"
          ]
        },
        {
          "output_type": "stream",
          "name": "stderr",
          "text": [
            "Epoch 1/5 - Training: 100%|██████████| 1234/1234 [00:10<00:00, 123.34it/s]\n"
          ]
        },
        {
          "output_type": "stream",
          "name": "stdout",
          "text": [
            "Epoch 1/5, Train Loss: 3.38331157056014, Dev Loss: 3.369334153206118\n"
          ]
        },
        {
          "output_type": "stream",
          "name": "stderr",
          "text": [
            "Epoch 2/5 - Training: 100%|██████████| 1234/1234 [00:09<00:00, 133.18it/s]\n"
          ]
        },
        {
          "output_type": "stream",
          "name": "stdout",
          "text": [
            "Epoch 2/5, Train Loss: 3.3543066031735758, Dev Loss: 3.340952830160818\n"
          ]
        },
        {
          "output_type": "stream",
          "name": "stderr",
          "text": [
            "Epoch 3/5 - Training: 100%|██████████| 1234/1234 [00:09<00:00, 124.77it/s]\n"
          ]
        },
        {
          "output_type": "stream",
          "name": "stdout",
          "text": [
            "Epoch 3/5, Train Loss: 3.325657387799923, Dev Loss: 3.3124864470574162\n"
          ]
        },
        {
          "output_type": "stream",
          "name": "stderr",
          "text": [
            "Epoch 4/5 - Training: 100%|██████████| 1234/1234 [00:10<00:00, 118.08it/s]\n"
          ]
        },
        {
          "output_type": "stream",
          "name": "stdout",
          "text": [
            "Epoch 4/5, Train Loss: 3.2966656352557857, Dev Loss: 3.2835821582425027\n"
          ]
        },
        {
          "output_type": "stream",
          "name": "stderr",
          "text": [
            "Epoch 5/5 - Training: 100%|██████████| 1234/1234 [00:10<00:00, 120.49it/s]\n",
            "[I 2025-03-02 21:42:20,682] Trial 6 finished with value: 3.2542074557273617 and parameters: {'lr': 3.9736981370074336e-05, 'embedding_dim': 152, 'hidden_dim': 364}. Best is trial 5 with value: 1.9497540858484084.\n"
          ]
        },
        {
          "output_type": "stream",
          "name": "stdout",
          "text": [
            "Epoch 5/5, Train Loss: 3.267228837917458, Dev Loss: 3.2542074557273617\n"
          ]
        },
        {
          "output_type": "stream",
          "name": "stderr",
          "text": [
            "Epoch 1/5 - Training: 100%|██████████| 1234/1234 [00:04<00:00, 301.10it/s]\n"
          ]
        },
        {
          "output_type": "stream",
          "name": "stdout",
          "text": [
            "Epoch 1/5, Train Loss: 3.281504388373327, Dev Loss: 3.142015403316867\n"
          ]
        },
        {
          "output_type": "stream",
          "name": "stderr",
          "text": [
            "Epoch 2/5 - Training: 100%|██████████| 1234/1234 [00:05<00:00, 241.60it/s]\n"
          ]
        },
        {
          "output_type": "stream",
          "name": "stdout",
          "text": [
            "Epoch 2/5, Train Loss: 3.024118176348978, Dev Loss: 2.925333749094317\n"
          ]
        },
        {
          "output_type": "stream",
          "name": "stderr",
          "text": [
            "Epoch 3/5 - Training: 100%|██████████| 1234/1234 [00:04<00:00, 302.05it/s]\n"
          ]
        },
        {
          "output_type": "stream",
          "name": "stdout",
          "text": [
            "Epoch 3/5, Train Loss: 2.8670002766907503, Dev Loss: 2.8081942281415384\n"
          ]
        },
        {
          "output_type": "stream",
          "name": "stderr",
          "text": [
            "Epoch 4/5 - Training: 100%|██████████| 1234/1234 [00:04<00:00, 300.55it/s]\n"
          ]
        },
        {
          "output_type": "stream",
          "name": "stdout",
          "text": [
            "Epoch 4/5, Train Loss: 2.7724557730521724, Dev Loss: 2.726100443255517\n"
          ]
        },
        {
          "output_type": "stream",
          "name": "stderr",
          "text": [
            "Epoch 5/5 - Training: 100%|██████████| 1234/1234 [00:05<00:00, 245.39it/s]\n",
            "[I 2025-03-02 21:42:44,100] Trial 7 finished with value: 2.656148059906498 and parameters: {'lr': 0.0005664007019501546, 'embedding_dim': 159, 'hidden_dim': 139}. Best is trial 5 with value: 1.9497540858484084.\n"
          ]
        },
        {
          "output_type": "stream",
          "name": "stdout",
          "text": [
            "Epoch 5/5, Train Loss: 2.699413219379258, Dev Loss: 2.656148059906498\n"
          ]
        },
        {
          "output_type": "stream",
          "name": "stderr",
          "text": [
            "Epoch 1/5 - Training: 100%|██████████| 1234/1234 [00:09<00:00, 135.16it/s]\n"
          ]
        },
        {
          "output_type": "stream",
          "name": "stdout",
          "text": [
            "Epoch 1/5, Train Loss: 2.3651221612863833, Dev Loss: 2.0904130166576755\n"
          ]
        },
        {
          "output_type": "stream",
          "name": "stderr",
          "text": [
            "Epoch 2/5 - Training: 100%|██████████| 1234/1234 [00:08<00:00, 139.04it/s]\n"
          ]
        },
        {
          "output_type": "stream",
          "name": "stdout",
          "text": [
            "Epoch 2/5, Train Loss: 1.964680588226071, Dev Loss: 1.8904782964337257\n"
          ]
        },
        {
          "output_type": "stream",
          "name": "stderr",
          "text": [
            "Epoch 3/5 - Training: 100%|██████████| 1234/1234 [00:09<00:00, 128.81it/s]\n"
          ]
        },
        {
          "output_type": "stream",
          "name": "stdout",
          "text": [
            "Epoch 3/5, Train Loss: 1.7850537174524712, Dev Loss: 1.7728626935712752\n"
          ]
        },
        {
          "output_type": "stream",
          "name": "stderr",
          "text": [
            "Epoch 4/5 - Training: 100%|██████████| 1234/1234 [00:09<00:00, 127.30it/s]\n"
          ]
        },
        {
          "output_type": "stream",
          "name": "stdout",
          "text": [
            "Epoch 4/5, Train Loss: 1.6668406325955445, Dev Loss: 1.7018940429533682\n"
          ]
        },
        {
          "output_type": "stream",
          "name": "stderr",
          "text": [
            "Epoch 5/5 - Training: 100%|██████████| 1234/1234 [00:09<00:00, 130.19it/s]\n",
            "[I 2025-03-02 21:43:33,135] Trial 8 finished with value: 1.6616109663440335 and parameters: {'lr': 0.01875680990313778, 'embedding_dim': 165, 'hidden_dim': 324}. Best is trial 8 with value: 1.6616109663440335.\n"
          ]
        },
        {
          "output_type": "stream",
          "name": "stdout",
          "text": [
            "Epoch 5/5, Train Loss: 1.5814839748354745, Dev Loss: 1.6616109663440335\n"
          ]
        },
        {
          "output_type": "stream",
          "name": "stderr",
          "text": [
            "Epoch 1/5 - Training: 100%|██████████| 1234/1234 [00:04<00:00, 307.93it/s]\n"
          ]
        },
        {
          "output_type": "stream",
          "name": "stdout",
          "text": [
            "Epoch 1/5, Train Loss: 2.416638965255051, Dev Loss: 2.080882515445832\n"
          ]
        },
        {
          "output_type": "stream",
          "name": "stderr",
          "text": [
            "Epoch 2/5 - Training: 100%|██████████| 1234/1234 [00:03<00:00, 309.81it/s]\n"
          ]
        },
        {
          "output_type": "stream",
          "name": "stdout",
          "text": [
            "Epoch 2/5, Train Loss: 2.009022011459357, Dev Loss: 1.8762185385150294\n"
          ]
        },
        {
          "output_type": "stream",
          "name": "stderr",
          "text": [
            "Epoch 3/5 - Training: 100%|██████████| 1234/1234 [00:04<00:00, 247.51it/s]\n"
          ]
        },
        {
          "output_type": "stream",
          "name": "stdout",
          "text": [
            "Epoch 3/5, Train Loss: 1.832608588993839, Dev Loss: 1.778211457883158\n"
          ]
        },
        {
          "output_type": "stream",
          "name": "stderr",
          "text": [
            "Epoch 4/5 - Training: 100%|██████████| 1234/1234 [00:04<00:00, 305.68it/s]\n"
          ]
        },
        {
          "output_type": "stream",
          "name": "stdout",
          "text": [
            "Epoch 4/5, Train Loss: 1.7138087359684213, Dev Loss: 1.7144283944560637\n"
          ]
        },
        {
          "output_type": "stream",
          "name": "stderr",
          "text": [
            "Epoch 5/5 - Training: 100%|██████████| 1234/1234 [00:04<00:00, 306.17it/s]\n",
            "[I 2025-03-02 21:43:55,142] Trial 9 finished with value: 1.653425935776003 and parameters: {'lr': 0.02215334375453727, 'embedding_dim': 106, 'hidden_dim': 171}. Best is trial 9 with value: 1.653425935776003.\n"
          ]
        },
        {
          "output_type": "stream",
          "name": "stdout",
          "text": [
            "Epoch 5/5, Train Loss: 1.6273673933174466, Dev Loss: 1.653425935776003\n"
          ]
        },
        {
          "output_type": "stream",
          "name": "stderr",
          "text": [
            "Epoch 1/5 - Training: 100%|██████████| 1234/1234 [00:03<00:00, 320.30it/s]\n"
          ]
        },
        {
          "output_type": "stream",
          "name": "stdout",
          "text": [
            "Epoch 1/5, Train Loss: 2.185450540852508, Dev Loss: 1.909101112042704\n"
          ]
        },
        {
          "output_type": "stream",
          "name": "stderr",
          "text": [
            "Epoch 2/5 - Training: 100%|██████████| 1234/1234 [00:02<00:00, 423.30it/s]\n"
          ]
        },
        {
          "output_type": "stream",
          "name": "stdout",
          "text": [
            "Epoch 2/5, Train Loss: 1.8059753752411667, Dev Loss: 1.7272232701701502\n"
          ]
        },
        {
          "output_type": "stream",
          "name": "stderr",
          "text": [
            "Epoch 3/5 - Training: 100%|██████████| 1234/1234 [00:02<00:00, 420.49it/s]\n"
          ]
        },
        {
          "output_type": "stream",
          "name": "stdout",
          "text": [
            "Epoch 3/5, Train Loss: 1.6496499920297094, Dev Loss: 1.6538217752210556\n"
          ]
        },
        {
          "output_type": "stream",
          "name": "stderr",
          "text": [
            "Epoch 4/5 - Training: 100%|██████████| 1234/1234 [00:02<00:00, 416.27it/s]\n"
          ]
        },
        {
          "output_type": "stream",
          "name": "stdout",
          "text": [
            "Epoch 4/5, Train Loss: 1.5541942212821211, Dev Loss: 1.6315923475450085\n"
          ]
        },
        {
          "output_type": "stream",
          "name": "stderr",
          "text": [
            "Epoch 5/5 - Training: 100%|██████████| 1234/1234 [00:03<00:00, 321.85it/s]\n",
            "[I 2025-03-02 21:44:12,440] Trial 10 finished with value: 1.6066637277603149 and parameters: {'lr': 0.08182351479641274, 'embedding_dim': 97, 'hidden_dim': 108}. Best is trial 10 with value: 1.6066637277603149.\n"
          ]
        },
        {
          "output_type": "stream",
          "name": "stdout",
          "text": [
            "Epoch 5/5, Train Loss: 1.4828860312458763, Dev Loss: 1.6066637277603149\n"
          ]
        },
        {
          "output_type": "stream",
          "name": "stderr",
          "text": [
            "Epoch 1/5 - Training: 100%|██████████| 1234/1234 [00:03<00:00, 391.96it/s]\n"
          ]
        },
        {
          "output_type": "stream",
          "name": "stdout",
          "text": [
            "Epoch 1/5, Train Loss: 2.181943732200604, Dev Loss: 1.9243329878776305\n"
          ]
        },
        {
          "output_type": "stream",
          "name": "stderr",
          "text": [
            "Epoch 2/5 - Training: 100%|██████████| 1234/1234 [00:03<00:00, 391.10it/s]\n"
          ]
        },
        {
          "output_type": "stream",
          "name": "stdout",
          "text": [
            "Epoch 2/5, Train Loss: 1.7996402675560652, Dev Loss: 1.753292727854944\n"
          ]
        },
        {
          "output_type": "stream",
          "name": "stderr",
          "text": [
            "Epoch 3/5 - Training: 100%|██████████| 1234/1234 [00:03<00:00, 339.48it/s]\n"
          ]
        },
        {
          "output_type": "stream",
          "name": "stdout",
          "text": [
            "Epoch 3/5, Train Loss: 1.6429624726552052, Dev Loss: 1.6973267747509864\n"
          ]
        },
        {
          "output_type": "stream",
          "name": "stderr",
          "text": [
            "Epoch 4/5 - Training: 100%|██████████| 1234/1234 [00:03<00:00, 348.63it/s]\n"
          ]
        },
        {
          "output_type": "stream",
          "name": "stdout",
          "text": [
            "Epoch 4/5, Train Loss: 1.544283710625415, Dev Loss: 1.6261043156346968\n"
          ]
        },
        {
          "output_type": "stream",
          "name": "stderr",
          "text": [
            "Epoch 5/5 - Training: 100%|██████████| 1234/1234 [00:03<00:00, 393.12it/s]\n",
            "[I 2025-03-02 21:44:29,963] Trial 11 finished with value: 1.6294699753484418 and parameters: {'lr': 0.09399304605827064, 'embedding_dim': 98, 'hidden_dim': 124}. Best is trial 10 with value: 1.6066637277603149.\n"
          ]
        },
        {
          "output_type": "stream",
          "name": "stdout",
          "text": [
            "Epoch 5/5, Train Loss: 1.4695015740935575, Dev Loss: 1.6294699753484418\n"
          ]
        },
        {
          "output_type": "stream",
          "name": "stderr",
          "text": [
            "Epoch 1/5 - Training: 100%|██████████| 1234/1234 [00:02<00:00, 440.71it/s]\n"
          ]
        },
        {
          "output_type": "stream",
          "name": "stdout",
          "text": [
            "Epoch 1/5, Train Loss: 2.26439765467636, Dev Loss: 2.0016140537877236\n"
          ]
        },
        {
          "output_type": "stream",
          "name": "stderr",
          "text": [
            "Epoch 2/5 - Training: 100%|██████████| 1234/1234 [00:03<00:00, 341.62it/s]\n"
          ]
        },
        {
          "output_type": "stream",
          "name": "stdout",
          "text": [
            "Epoch 2/5, Train Loss: 1.8810615955913859, Dev Loss: 1.7995362597127114\n"
          ]
        },
        {
          "output_type": "stream",
          "name": "stderr",
          "text": [
            "Epoch 3/5 - Training: 100%|██████████| 1234/1234 [00:02<00:00, 443.31it/s]\n"
          ]
        },
        {
          "output_type": "stream",
          "name": "stdout",
          "text": [
            "Epoch 3/5, Train Loss: 1.711864974065963, Dev Loss: 1.7507533661780819\n"
          ]
        },
        {
          "output_type": "stream",
          "name": "stderr",
          "text": [
            "Epoch 4/5 - Training: 100%|██████████| 1234/1234 [00:02<00:00, 444.80it/s]\n"
          ]
        },
        {
          "output_type": "stream",
          "name": "stdout",
          "text": [
            "Epoch 4/5, Train Loss: 1.6117489033135641, Dev Loss: 1.637588962816423\n"
          ]
        },
        {
          "output_type": "stream",
          "name": "stderr",
          "text": [
            "Epoch 5/5 - Training: 100%|██████████| 1234/1234 [00:02<00:00, 446.78it/s]\n",
            "[I 2025-03-02 21:44:45,572] Trial 12 finished with value: 1.6605846597302345 and parameters: {'lr': 0.05421270395742371, 'embedding_dim': 93, 'hidden_dim': 102}. Best is trial 10 with value: 1.6066637277603149.\n"
          ]
        },
        {
          "output_type": "stream",
          "name": "stdout",
          "text": [
            "Epoch 5/5, Train Loss: 1.5375138787338374, Dev Loss: 1.6605846597302345\n"
          ]
        },
        {
          "output_type": "stream",
          "name": "stderr",
          "text": [
            "Epoch 1/5 - Training: 100%|██████████| 1234/1234 [00:05<00:00, 237.14it/s]\n"
          ]
        },
        {
          "output_type": "stream",
          "name": "stdout",
          "text": [
            "Epoch 1/5, Train Loss: 2.1682395912839683, Dev Loss: 1.909203517052435\n"
          ]
        },
        {
          "output_type": "stream",
          "name": "stderr",
          "text": [
            "Epoch 2/5 - Training: 100%|██████████| 1234/1234 [00:04<00:00, 285.49it/s]\n"
          ]
        },
        {
          "output_type": "stream",
          "name": "stdout",
          "text": [
            "Epoch 2/5, Train Loss: 1.7691154454863438, Dev Loss: 1.7242003094765448\n"
          ]
        },
        {
          "output_type": "stream",
          "name": "stderr",
          "text": [
            "Epoch 3/5 - Training: 100%|██████████| 1234/1234 [00:04<00:00, 270.63it/s]\n"
          ]
        },
        {
          "output_type": "stream",
          "name": "stdout",
          "text": [
            "Epoch 3/5, Train Loss: 1.6049526063800823, Dev Loss: 1.601490056899286\n"
          ]
        },
        {
          "output_type": "stream",
          "name": "stderr",
          "text": [
            "Epoch 4/5 - Training: 100%|██████████| 1234/1234 [00:05<00:00, 240.66it/s]\n"
          ]
        },
        {
          "output_type": "stream",
          "name": "stdout",
          "text": [
            "Epoch 4/5, Train Loss: 1.5000550636789207, Dev Loss: 1.6239364443286772\n"
          ]
        },
        {
          "output_type": "stream",
          "name": "stderr",
          "text": [
            "Epoch 5/5 - Training: 100%|██████████| 1234/1234 [00:04<00:00, 277.73it/s]\n",
            "[I 2025-03-02 21:45:10,414] Trial 13 finished with value: 1.626485716142962 and parameters: {'lr': 0.09202042793150106, 'embedding_dim': 63, 'hidden_dim': 246}. Best is trial 10 with value: 1.6066637277603149.\n"
          ]
        },
        {
          "output_type": "stream",
          "name": "stdout",
          "text": [
            "Epoch 5/5, Train Loss: 1.42663298037682, Dev Loss: 1.626485716142962\n"
          ]
        },
        {
          "output_type": "stream",
          "name": "stderr",
          "text": [
            "Epoch 1/5 - Training: 100%|██████████| 1234/1234 [00:05<00:00, 218.34it/s]\n"
          ]
        },
        {
          "output_type": "stream",
          "name": "stdout",
          "text": [
            "Epoch 1/5, Train Loss: 2.850199449004385, Dev Loss: 2.59371055633791\n"
          ]
        },
        {
          "output_type": "stream",
          "name": "stderr",
          "text": [
            "Epoch 2/5 - Training: 100%|██████████| 1234/1234 [00:04<00:00, 270.57it/s]\n"
          ]
        },
        {
          "output_type": "stream",
          "name": "stdout",
          "text": [
            "Epoch 2/5, Train Loss: 2.491273075970104, Dev Loss: 2.382300683759874\n"
          ]
        },
        {
          "output_type": "stream",
          "name": "stderr",
          "text": [
            "Epoch 3/5 - Training: 100%|██████████| 1234/1234 [00:04<00:00, 253.49it/s]\n"
          ]
        },
        {
          "output_type": "stream",
          "name": "stdout",
          "text": [
            "Epoch 3/5, Train Loss: 2.338604534754297, Dev Loss: 2.266157117966683\n"
          ]
        },
        {
          "output_type": "stream",
          "name": "stderr",
          "text": [
            "Epoch 4/5 - Training: 100%|██████████| 1234/1234 [00:05<00:00, 241.97it/s]\n"
          ]
        },
        {
          "output_type": "stream",
          "name": "stdout",
          "text": [
            "Epoch 4/5, Train Loss: 2.2382595293718954, Dev Loss: 2.1781733666696854\n"
          ]
        },
        {
          "output_type": "stream",
          "name": "stderr",
          "text": [
            "Epoch 5/5 - Training: 100%|██████████| 1234/1234 [00:04<00:00, 269.71it/s]\n",
            "[I 2025-03-02 21:45:36,403] Trial 14 finished with value: 2.1127178615139375 and parameters: {'lr': 0.004122722293041883, 'embedding_dim': 63, 'hidden_dim': 261}. Best is trial 10 with value: 1.6066637277603149.\n"
          ]
        },
        {
          "output_type": "stream",
          "name": "stdout",
          "text": [
            "Epoch 5/5, Train Loss: 2.1596617979786963, Dev Loss: 2.1127178615139375\n"
          ]
        },
        {
          "output_type": "stream",
          "name": "stderr",
          "text": [
            "Epoch 1/5 - Training: 100%|██████████| 1234/1234 [00:07<00:00, 155.30it/s]\n"
          ]
        },
        {
          "output_type": "stream",
          "name": "stdout",
          "text": [
            "Epoch 1/5, Train Loss: 2.7933779524056606, Dev Loss: 2.539470675683791\n"
          ]
        },
        {
          "output_type": "stream",
          "name": "stderr",
          "text": [
            "Epoch 2/5 - Training: 100%|██████████| 1234/1234 [00:07<00:00, 167.38it/s]\n"
          ]
        },
        {
          "output_type": "stream",
          "name": "stdout",
          "text": [
            "Epoch 2/5, Train Loss: 2.4405488385373615, Dev Loss: 2.319348260664171\n"
          ]
        },
        {
          "output_type": "stream",
          "name": "stderr",
          "text": [
            "Epoch 3/5 - Training: 100%|██████████| 1234/1234 [00:07<00:00, 169.15it/s]\n"
          ]
        },
        {
          "output_type": "stream",
          "name": "stdout",
          "text": [
            "Epoch 3/5, Train Loss: 2.275243572709626, Dev Loss: 2.1980378435504053\n"
          ]
        },
        {
          "output_type": "stream",
          "name": "stderr",
          "text": [
            "Epoch 4/5 - Training: 100%|██████████| 1234/1234 [00:08<00:00, 152.71it/s]\n"
          ]
        },
        {
          "output_type": "stream",
          "name": "stdout",
          "text": [
            "Epoch 4/5, Train Loss: 2.168047699298426, Dev Loss: 2.1092172022788755\n"
          ]
        },
        {
          "output_type": "stream",
          "name": "stderr",
          "text": [
            "Epoch 5/5 - Training: 100%|██████████| 1234/1234 [00:09<00:00, 132.06it/s]\n",
            "[I 2025-03-02 21:46:18,416] Trial 15 finished with value: 2.0376516549817976 and parameters: {'lr': 0.004401454222580747, 'embedding_dim': 67, 'hidden_dim': 392}. Best is trial 10 with value: 1.6066637277603149.\n"
          ]
        },
        {
          "output_type": "stream",
          "name": "stdout",
          "text": [
            "Epoch 5/5, Train Loss: 2.087198205763169, Dev Loss: 2.0376516549817976\n"
          ]
        },
        {
          "output_type": "stream",
          "name": "stderr",
          "text": [
            "Epoch 1/5 - Training: 100%|██████████| 1234/1234 [00:04<00:00, 264.38it/s]\n"
          ]
        },
        {
          "output_type": "stream",
          "name": "stdout",
          "text": [
            "Epoch 1/5, Train Loss: 2.1331934559866905, Dev Loss: 1.80922110080719\n"
          ]
        },
        {
          "output_type": "stream",
          "name": "stderr",
          "text": [
            "Epoch 2/5 - Training: 100%|██████████| 1234/1234 [00:04<00:00, 278.92it/s]\n"
          ]
        },
        {
          "output_type": "stream",
          "name": "stdout",
          "text": [
            "Epoch 2/5, Train Loss: 1.7481421653416787, Dev Loss: 1.6700539604310067\n"
          ]
        },
        {
          "output_type": "stream",
          "name": "stderr",
          "text": [
            "Epoch 3/5 - Training: 100%|██████████| 1234/1234 [00:05<00:00, 230.12it/s]\n"
          ]
        },
        {
          "output_type": "stream",
          "name": "stdout",
          "text": [
            "Epoch 3/5, Train Loss: 1.590115613305588, Dev Loss: 1.6316952532337559\n"
          ]
        },
        {
          "output_type": "stream",
          "name": "stderr",
          "text": [
            "Epoch 4/5 - Training: 100%|██████████| 1234/1234 [00:04<00:00, 273.70it/s]\n"
          ]
        },
        {
          "output_type": "stream",
          "name": "stdout",
          "text": [
            "Epoch 4/5, Train Loss: 1.491038754751462, Dev Loss: 1.5984140734518728\n"
          ]
        },
        {
          "output_type": "stream",
          "name": "stderr",
          "text": [
            "Epoch 5/5 - Training: 100%|██████████| 1234/1234 [00:04<00:00, 249.80it/s]\n",
            "[I 2025-03-02 21:46:43,533] Trial 16 finished with value: 1.5772483468055725 and parameters: {'lr': 0.09481896968690742, 'embedding_dim': 123, 'hidden_dim': 183}. Best is trial 16 with value: 1.5772483468055725.\n"
          ]
        },
        {
          "output_type": "stream",
          "name": "stdout",
          "text": [
            "Epoch 5/5, Train Loss: 1.4131787618323315, Dev Loss: 1.5772483468055725\n"
          ]
        },
        {
          "output_type": "stream",
          "name": "stderr",
          "text": [
            "Epoch 1/5 - Training: 100%|██████████| 1234/1234 [00:05<00:00, 237.98it/s]\n"
          ]
        },
        {
          "output_type": "stream",
          "name": "stdout",
          "text": [
            "Epoch 1/5, Train Loss: 2.320903409918471, Dev Loss: 2.024457525053332\n"
          ]
        },
        {
          "output_type": "stream",
          "name": "stderr",
          "text": [
            "Epoch 2/5 - Training: 100%|██████████| 1234/1234 [00:04<00:00, 249.29it/s]\n"
          ]
        },
        {
          "output_type": "stream",
          "name": "stdout",
          "text": [
            "Epoch 2/5, Train Loss: 1.9110735674151724, Dev Loss: 1.8221334434324694\n"
          ]
        },
        {
          "output_type": "stream",
          "name": "stderr",
          "text": [
            "Epoch 3/5 - Training: 100%|██████████| 1234/1234 [00:05<00:00, 213.19it/s]\n"
          ]
        },
        {
          "output_type": "stream",
          "name": "stdout",
          "text": [
            "Epoch 3/5, Train Loss: 1.733069399090988, Dev Loss: 1.7154305285023104\n"
          ]
        },
        {
          "output_type": "stream",
          "name": "stderr",
          "text": [
            "Epoch 4/5 - Training: 100%|██████████| 1234/1234 [00:04<00:00, 258.97it/s]\n"
          ]
        },
        {
          "output_type": "stream",
          "name": "stdout",
          "text": [
            "Epoch 4/5, Train Loss: 1.6226997471126203, Dev Loss: 1.6472576910449612\n"
          ]
        },
        {
          "output_type": "stream",
          "name": "stderr",
          "text": [
            "Epoch 5/5 - Training: 100%|██████████| 1234/1234 [00:05<00:00, 213.15it/s]\n",
            "[I 2025-03-02 21:47:11,148] Trial 17 finished with value: 1.6480275496359795 and parameters: {'lr': 0.03159294985321903, 'embedding_dim': 125, 'hidden_dim': 196}. Best is trial 16 with value: 1.5772483468055725.\n"
          ]
        },
        {
          "output_type": "stream",
          "name": "stdout",
          "text": [
            "Epoch 5/5, Train Loss: 1.5412592816874506, Dev Loss: 1.6480275496359795\n"
          ]
        },
        {
          "output_type": "stream",
          "name": "stderr",
          "text": [
            "Epoch 1/5 - Training: 100%|██████████| 1234/1234 [00:03<00:00, 313.91it/s]\n"
          ]
        },
        {
          "output_type": "stream",
          "name": "stdout",
          "text": [
            "Epoch 1/5, Train Loss: 3.3957231075682555, Dev Loss: 3.394183518809657\n"
          ]
        },
        {
          "output_type": "stream",
          "name": "stderr",
          "text": [
            "Epoch 2/5 - Training: 100%|██████████| 1234/1234 [00:03<00:00, 312.08it/s]\n"
          ]
        },
        {
          "output_type": "stream",
          "name": "stdout",
          "text": [
            "Epoch 2/5, Train Loss: 3.3909018466692884, Dev Loss: 3.389414616554014\n"
          ]
        },
        {
          "output_type": "stream",
          "name": "stderr",
          "text": [
            "Epoch 3/5 - Training: 100%|██████████| 1234/1234 [00:04<00:00, 248.46it/s]\n"
          ]
        },
        {
          "output_type": "stream",
          "name": "stdout",
          "text": [
            "Epoch 3/5, Train Loss: 3.386105039517729, Dev Loss: 3.3847001075744627\n"
          ]
        },
        {
          "output_type": "stream",
          "name": "stderr",
          "text": [
            "Epoch 4/5 - Training: 100%|██████████| 1234/1234 [00:04<00:00, 305.94it/s]\n"
          ]
        },
        {
          "output_type": "stream",
          "name": "stdout",
          "text": [
            "Epoch 4/5, Train Loss: 3.381414971243427, Dev Loss: 3.3800263450991723\n"
          ]
        },
        {
          "output_type": "stream",
          "name": "stderr",
          "text": [
            "Epoch 5/5 - Training: 100%|██████████| 1234/1234 [00:04<00:00, 307.43it/s]\n",
            "[I 2025-03-02 21:47:33,130] Trial 18 finished with value: 3.3753738926303 and parameters: {'lr': 1.3437388152887058e-05, 'embedding_dim': 131, 'hidden_dim': 148}. Best is trial 16 with value: 1.5772483468055725.\n"
          ]
        },
        {
          "output_type": "stream",
          "name": "stdout",
          "text": [
            "Epoch 5/5, Train Loss: 3.376736016675371, Dev Loss: 3.3753738926303\n"
          ]
        },
        {
          "output_type": "stream",
          "name": "stderr",
          "text": [
            "Epoch 1/5 - Training: 100%|██████████| 1234/1234 [00:05<00:00, 214.38it/s]\n"
          ]
        },
        {
          "output_type": "stream",
          "name": "stdout",
          "text": [
            "Epoch 1/5, Train Loss: 2.707514182868228, Dev Loss: 2.400085788388406\n"
          ]
        },
        {
          "output_type": "stream",
          "name": "stderr",
          "text": [
            "Epoch 2/5 - Training: 100%|██████████| 1234/1234 [00:04<00:00, 255.65it/s]\n"
          ]
        },
        {
          "output_type": "stream",
          "name": "stdout",
          "text": [
            "Epoch 2/5, Train Loss: 2.289544542179695, Dev Loss: 2.1680277086073354\n"
          ]
        },
        {
          "output_type": "stream",
          "name": "stderr",
          "text": [
            "Epoch 3/5 - Training: 100%|██████████| 1234/1234 [00:05<00:00, 212.32it/s]\n"
          ]
        },
        {
          "output_type": "stream",
          "name": "stdout",
          "text": [
            "Epoch 3/5, Train Loss: 2.120948044948485, Dev Loss: 2.043410538088891\n"
          ]
        },
        {
          "output_type": "stream",
          "name": "stderr",
          "text": [
            "Epoch 4/5 - Training: 100%|██████████| 1234/1234 [00:04<00:00, 261.97it/s]\n"
          ]
        },
        {
          "output_type": "stream",
          "name": "stdout",
          "text": [
            "Epoch 4/5, Train Loss: 2.0126676525636857, Dev Loss: 1.9531819012857252\n"
          ]
        },
        {
          "output_type": "stream",
          "name": "stderr",
          "text": [
            "Epoch 5/5 - Training: 100%|██████████| 1234/1234 [00:05<00:00, 227.11it/s]\n",
            "[I 2025-03-02 21:48:00,949] Trial 19 finished with value: 1.8730272777618902 and parameters: {'lr': 0.007008170697282736, 'embedding_dim': 128, 'hidden_dim': 202}. Best is trial 16 with value: 1.5772483468055725.\n"
          ]
        },
        {
          "output_type": "stream",
          "name": "stdout",
          "text": [
            "Epoch 5/5, Train Loss: 1.9250424163268103, Dev Loss: 1.8730272777618902\n",
            "Best hyperparameters: {'lr': 0.09481896968690742, 'embedding_dim': 123, 'hidden_dim': 183}\n",
            "Best validation loss: 1.5772483468055725\n"
          ]
        },
        {
          "output_type": "stream",
          "name": "stderr",
          "text": [
            "Epoch 1/10 - Training: 100%|██████████| 1234/1234 [00:04<00:00, 260.96it/s]\n"
          ]
        },
        {
          "output_type": "stream",
          "name": "stdout",
          "text": [
            "Epoch 1/10, Train Loss: 2.1439510981885888, Dev Loss: 1.846717530296695\n"
          ]
        },
        {
          "output_type": "stream",
          "name": "stderr",
          "text": [
            "Epoch 2/10 - Training: 100%|██████████| 1234/1234 [00:04<00:00, 269.46it/s]\n"
          ]
        },
        {
          "output_type": "stream",
          "name": "stdout",
          "text": [
            "Epoch 2/10, Train Loss: 1.7595699540123562, Dev Loss: 1.6962057859666886\n"
          ]
        },
        {
          "output_type": "stream",
          "name": "stderr",
          "text": [
            "Epoch 3/10 - Training: 100%|██████████| 1234/1234 [00:05<00:00, 222.59it/s]\n"
          ]
        },
        {
          "output_type": "stream",
          "name": "stdout",
          "text": [
            "Epoch 3/10, Train Loss: 1.5952670617176996, Dev Loss: 1.6623994427342568\n"
          ]
        },
        {
          "output_type": "stream",
          "name": "stderr",
          "text": [
            "Epoch 4/10 - Training: 100%|██████████| 1234/1234 [00:04<00:00, 269.34it/s]\n"
          ]
        },
        {
          "output_type": "stream",
          "name": "stdout",
          "text": [
            "Epoch 4/10, Train Loss: 1.4962221042070436, Dev Loss: 1.595364054556816\n"
          ]
        },
        {
          "output_type": "stream",
          "name": "stderr",
          "text": [
            "Epoch 5/10 - Training: 100%|██████████| 1234/1234 [00:05<00:00, 222.21it/s]\n"
          ]
        },
        {
          "output_type": "stream",
          "name": "stdout",
          "text": [
            "Epoch 5/10, Train Loss: 1.4234100760381845, Dev Loss: 1.5994052298607364\n"
          ]
        },
        {
          "output_type": "stream",
          "name": "stderr",
          "text": [
            "Epoch 6/10 - Training: 100%|██████████| 1234/1234 [00:04<00:00, 270.29it/s]\n"
          ]
        },
        {
          "output_type": "stream",
          "name": "stdout",
          "text": [
            "Epoch 6/10, Train Loss: 1.3620482565807948, Dev Loss: 1.6022332579858842\n"
          ]
        },
        {
          "output_type": "stream",
          "name": "stderr",
          "text": [
            "Epoch 7/10 - Training: 100%|██████████| 1234/1234 [00:04<00:00, 273.56it/s]\n"
          ]
        },
        {
          "output_type": "stream",
          "name": "stdout",
          "text": [
            "Epoch 7/10, Train Loss: 1.3107185017927345, Dev Loss: 1.5885123821996874\n"
          ]
        },
        {
          "output_type": "stream",
          "name": "stderr",
          "text": [
            "Epoch 8/10 - Training: 100%|██████████| 1234/1234 [00:05<00:00, 222.89it/s]\n"
          ]
        },
        {
          "output_type": "stream",
          "name": "stdout",
          "text": [
            "Epoch 8/10, Train Loss: 1.2663818477521647, Dev Loss: 1.6363999297541956\n"
          ]
        },
        {
          "output_type": "stream",
          "name": "stderr",
          "text": [
            "Epoch 9/10 - Training: 100%|██████████| 1234/1234 [00:04<00:00, 267.81it/s]\n"
          ]
        },
        {
          "output_type": "stream",
          "name": "stdout",
          "text": [
            "Epoch 9/10, Train Loss: 1.2272343709461113, Dev Loss: 1.6156245500810684\n"
          ]
        },
        {
          "output_type": "stream",
          "name": "stderr",
          "text": [
            "Epoch 10/10 - Training: 100%|██████████| 1234/1234 [00:05<00:00, 218.71it/s]\n"
          ]
        },
        {
          "output_type": "stream",
          "name": "stdout",
          "text": [
            "Epoch 10/10, Train Loss: 1.1939092332095729, Dev Loss: 1.6604742227062101\n"
          ]
        }
      ]
    },
    {
      "cell_type": "code",
      "source": [
        "visualise_losses(sp_train_losses, sp_dev_losses, \"Spanish\")"
      ],
      "metadata": {
        "id": "ipTpIMhk_mCp",
        "colab": {
          "base_uri": "https://localhost:8080/",
          "height": 575
        },
        "outputId": "3c28fe28-cdb2-49af-b9cc-15098d3a42e5"
      },
      "execution_count": 16,
      "outputs": [
        {
          "output_type": "display_data",
          "data": {
            "text/plain": [
              "<Figure size 1000x600 with 1 Axes>"
            ],
            "image/png": "[encoded data removed]"
          },
          "metadata": {}
        }
      ]
    },
    {
      "cell_type": "code",
      "source": [
        "# Example usage:\n",
        "perplexity = calculate_perplexity(spanish_model, spanish_validation_dataset)\n",
        "accuracy = calculate_character_accuracy(spanish_model, spanish_validation_dataset)\n",
        "\n",
        "print(f\"Perplexity on validation set: {perplexity}\")\n",
        "print(f\"Character Accuracy on validation set: {accuracy}\")\n",
        "\n",
        "expected_names = spanish_names_tokenizer.words[:15]\n",
        "generated_names = []\n",
        "\n",
        "for exp_name in expected_names:\n",
        "  generated_names.append(spanish_model.generate_names_starting_with(exp_name[:2], tokenizer=spanish_names_tokenizer, num_names=1, max_len=len(exp_name))[-1])\n",
        "\n",
        "# Compare the generated names with the expected names (example comparison)\n",
        "print(\"\\nComparison:\")\n",
        "for i in range(10):\n",
        "    print(f\"Generated: {generated_names[i]}, Original word (example): {expected_names[i]}\")\n"
      ],
      "metadata": {
        "id": "vk4253YN-326",
        "colab": {
          "base_uri": "https://localhost:8080/"
        },
        "outputId": "54f921a7-60c2-43b2-bca1-1c458f07a1eb"
      },
      "execution_count": 17,
      "outputs": [
        {
          "output_type": "stream",
          "name": "stdout",
          "text": [
            "Perplexity on validation set: 5.577010154724121\n",
            "Character Accuracy on validation set: 0.5048642075395217\n",
            "\n",
            "Comparison:\n",
            "Generated: veronic, Original word (example): verania\n",
            "Generated: eduard carmel, Original word (example): edwin alfredo\n",
            "Generated: edgar humberto , Original word (example): edgar francisco\n",
            "Generated: blalia andr, Original word (example): blanca ines\n",
            "Generated: oura, Original word (example): ousama\n",
            "Generated: teres, Original word (example): telma\n",
            "Generated: miguel, Original word (example): mihaela lacramioara\n",
            "Generated: roberto car, Original word (example): roque mario\n",
            "Generated: charlota, Original word (example): changqing\n",
            "Generated: edgar, Original word (example): edmundo jose\n"
          ]
        }
      ]
    },
    {
      "cell_type": "markdown",
      "source": [
        "# We will consider the aspects like:\n",
        " - Similarity of generated names to expected names in both cases\n",
        " - Character-level accuracy for cross-language generation\n",
        " - Structural differences between the names generated and the correct names\n",
        " - Expected vs. unexpected results.  Why?  Linguistic similarity of Italian and Spanish\n",
        " - Potential improvements for cross-lingual transfer"
      ],
      "metadata": {
        "id": "WySE_731dXzd"
      }
    },
    {
      "cell_type": "code",
      "source": [
        "print(f\"\"\"\n",
        "Evaluations:\n",
        "Spanish language on Italian model: {calculate_character_accuracy(spanish_model, italian_validation_dataset)}\n",
        "Italian language on Spanish model: {calculate_character_accuracy(italian_model, spanish_validation_dataset)}\n",
        "\n",
        "Perplexity on Italian model: {calculate_perplexity(italian_model, spanish_validation_dataset)},\n",
        "Perplexity on Spanish model: {calculate_perplexity(spanish_model, italian_validation_dataset)}\n",
        "\"\"\")\n"
      ],
      "metadata": {
        "id": "m7yZj6qJvST3",
        "colab": {
          "base_uri": "https://localhost:8080/"
        },
        "outputId": "3c46d67c-22e6-41be-c3f3-e8ececb2a798"
      },
      "execution_count": 18,
      "outputs": [
        {
          "output_type": "stream",
          "name": "stdout",
          "text": [
            "\n",
            "Evaluations:\n",
            "Spanish language on Italian model: 0.3598173515981735\n",
            "Italian language on Spanish model: 0.3589379813538711\n",
            "\n",
            "Perplexity on Italian model: 16.28691291809082,\n",
            "Perplexity on Spanish model: 13.459516525268555\n",
            "\n"
          ]
        }
      ]
    },
    {
      "cell_type": "markdown",
      "source": [
        "# Export the models for the second notebook"
      ],
      "metadata": {
        "id": "tggWeJ2ewMJO"
      }
    },
    {
      "cell_type": "code",
      "source": [
        "import pickle\n",
        "\n",
        "# Save the Italian model\n",
        "with open('italian_model.pkl', 'wb') as f:\n",
        "    pickle.dump(italian_model, f)\n",
        "\n",
        "# Save the Spanish model\n",
        "with open('spanish_model.pkl', 'wb') as f:\n",
        "    pickle.dump(spanish_model, f)\n"
      ],
      "metadata": {
        "id": "OOP1Ejkpum1w"
      },
      "execution_count": 19,
      "outputs": []
    },
    {
      "cell_type": "code",
      "source": [],
      "metadata": {
        "id": "17UhjyOmwms8"
      },
      "execution_count": 19,
      "outputs": []
    }
  ]
}